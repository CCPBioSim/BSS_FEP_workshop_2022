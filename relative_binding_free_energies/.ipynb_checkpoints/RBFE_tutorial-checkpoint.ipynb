{
 "cells": [
  {
   "cell_type": "markdown",
   "metadata": {},
   "source": [
    "# <span style=\"color:teal\">RBFE Network Tutorial</span>\n",
    "This is the RBFE (Relative Binding Free Energy) workflow jupyter notebook for the September 2022 CCPBioSim Workshop.\n",
    "It includes core as well as <span style=\"color:purple\">extra</span> options.\n",
    "\n",
    "##### <span style=\"color:teal\">Previous knowledge</span> \n",
    " - Basic python\n",
    " - Part 1 of this workshop (Introduction to Alchemistry with BioSimSpace)\n",
    "    - this should include basic knowledge of the principles behind RBFE\n",
    "\n",
    "##### <span style=\"color:teal\">Learning objectives</span>  \n",
    " - Setup an FEP (Free Energy Perturbation) pipeline using BioSimSpace and SOMD.\n",
    " - Analyse and plot the results.\n",
    "\n",
    "\n",
    "##### <span style=\"color:teal\">Authors</span>  \n",
    " - Anna Herz (@annamherz)\n",
    " - This is adapted from the FEP BioSimSpace Tutorial written by Jenke Scheen (https://github.com/michellab/BioSimSpaceTutorials/tree/main/04_fep).\n",
    "\n",
    "\n",
    " <span style=\"color:pink\">Further reading </span> references some sections of the [LiveComs Best Practices for Alchemical Free Energy Calculations](https://livecomsjournal.org/index.php/livecoms/article/view/v2i1e18378)."
   ]
  },
  {
   "cell_type": "code",
   "execution_count": null,
   "metadata": {},
   "outputs": [],
   "source": [
    "# import libraries\n",
    "import BioSimSpace as BSS\n",
    "import os\n",
    "import glob\n",
    "import csv\n",
    "import numpy as np\n",
    "# for the analysis\n",
    "from alchemlyb.visualisation import plot_mbar_overlap_matrix as _plot_mbar_overlap_matrix\n",
    "from alchemlyb.visualisation import plot_ti_dhdl as _plot_ti_dhdl\n",
    "import math\n",
    "import pandas as pd\n",
    "\n",
    "# define all the folder locations\n",
    "main_folder =  os.getcwd()\n",
    "print(main_folder)\n",
    "# scripts should be located in:\n",
    "scripts_folder = f\"{main_folder}/scripts\"\n",
    "# other folders\n",
    "input_dir = f\"{main_folder}/inputs\"\n",
    "path_to_ligands = f\"{main_folder}/inputs/ligands\""
   ]
  },
  {
   "cell_type": "markdown",
   "metadata": {},
   "source": [
    "##### <span style=\"color:teal\">Choosing the parameters for the FEP runs</span>\n",
    "\n",
    "Running the below cell will generate the input nodes that can be used to choose various parameters for the FEP network.\n",
    "\n",
    "This includes the forcefields used (ligand, protein, water), the number of lambda windows, and the threshold for the LOMAP score. This threshold will be used to define a perturbation as being either 'regular' or 'difficult', and consequently how many lambda windows will be used.\n"
   ]
  },
  {
   "cell_type": "code",
   "execution_count": null,
   "metadata": {},
   "outputs": [],
   "source": [
    "node = BSS.Gateway.Node(\"A node to create input files for molecular dynamics simulation.\")\n",
    "\n",
    "node.addInput(\"Ligand FF\", BSS.Gateway.String(help=\"Force field to parameterise ligands with.\",\n",
    "                                             allowed=[\"GAFF1\", \"GAFF2\"],\n",
    "                                             default=\"GAFF2\"))\n",
    "\n",
    "node.addInput(\"Protein FF\", BSS.Gateway.String(help=\"Force field to parameterise the protein with.\",\n",
    "                                             allowed=[\"FF03\", \"FF14SB\", \"FF99\", \"FF99SB\", \"FF99SBILDN\"],\n",
    "                                             default=\"FF14SB\"))\n",
    "\n",
    "node.addInput(\"Water Model\", BSS.Gateway.String(help=\"Water model to use.\",\n",
    "                                             allowed=[\"SPC\", \"SPCE\", \"TIP3P\", \"TIP4P\", \"TIP5P\"],\n",
    "                                             default=\"TIP3P\"))\n",
    "\n",
    "node.addInput(\"Box Edges\", BSS.Gateway.String(help=\"Size of water box around molecular system.\",\n",
    "                                             allowed=[\"20*angstrom\", \"25*angstrom\", \"30*angstrom\", \"35*angstrom\", \"45*angstrom\", \"5*nm\", \"7*nm\", \"10*nm\"],\n",
    "                                             default=\"20*angstrom\"))\n",
    "\n",
    "node.addInput(\"Box Shape\", BSS.Gateway.String(help=\"Geometric shape of water box.\",\n",
    "                                             allowed=[\"cubic\", \"truncatedOctahedron\"],\n",
    "                                             default=\"cubic\"))\n",
    "\n",
    "node.addInput(\"Run Time\", BSS.Gateway.String(help=\"The sampling time per lambda window.\",\n",
    "                                             allowed=[\"10*ps\", \"100*ps\", \"1*ns\", \"2*ns\", \"3*ns\", \"4*ns\", \"5*ns\", \"8*ns\", \"10*ns\", \"12*ns\", \"15*ns\"],\n",
    "                                             default=\"2*ns\"))\n",
    "\n",
    "node.addInput(\"FEP Engine\", BSS.Gateway.String(help=\"Engine to run FEP with.\",\n",
    "                                             allowed=[e.upper() for e in BSS.FreeEnergy.engines()],\n",
    "                                             default=\"SOMD\"))\n",
    "\n",
    "node.addInput(\"LambdaWindows\", BSS.Gateway.String(help=\"The number of lambda windows for regular transformations.\",\n",
    "                                             allowed=[\"3\", \"4\", \"5\", \"6\", \"7\", \"8\", \"9\", \"10\", \"11\", \"12\", \"13\", \"14\", \"15\", \"16\", \"17\", \"18\", \"19\", \"20\"],\n",
    "                                             default=\"11\"))\n",
    "\n",
    "node.addInput(\"DiffLambdaWindows\", BSS.Gateway.String(help=\"The number of lambda windows for difficult transformations.\",\n",
    "                                             allowed=[\"4\", \"5\", \"6\", \"7\", \"8\", \"9\", \"10\", \"11\", \"12\", \"13\", \"14\", \"15\", \"16\", \"17\", \"18\", \"19\", \"20\"],\n",
    "                                             default=\"17\"))\n",
    "                                             \n",
    "node.addInput(\"LOMAP Threshold\", BSS.Gateway.String(help=\"The LOMAP score threshold to define difficult transformations.\",\n",
    "                                             allowed=[\"0.1\", \"0.2\", \"0.3\", \"0.4\", \"0.5\", \"0.6\", \"0.7\", \"0.8\", \"0.9\"],\n",
    "                                             default=\"0.4\"))\n",
    "\n",
    "node.showControls()"
   ]
  },
  {
   "cell_type": "markdown",
   "metadata": {},
   "source": [
    "After the parameters are chosen, the next step for generating an FEP network is to check the structure of the protein and ligands for which this will be run. \n",
    "\n",
    "\n",
    "The ligand files are provided in the inputs/ligands folder. They were generated using [FEGrow](https://github.com/cole-group/FEgrow).\n"
   ]
  },
  {
   "cell_type": "markdown",
   "metadata": {},
   "source": [
    "##### <span style=\"color:teal\">The FEP Network</span>  \n",
    "\n",
    "The reliability of FEP calculations is typically higher for transformations with fewer heavy atom changes and some other rules (e.g. no ring formations). LOMAP is a package that contains heuristics for this and is able to come up with a network for us; BioSimSpace contains a function generateNetwork() that uses LOMAP to come up with the perturbation network that visualises the desired perturbations. Additionally, a LOMAP score is calculated which quantifies the likeliness that the FEP prediction will be reliable (0 means unlikely, 1 means highly likely).\n",
    "\n",
    " <span style=\"color:pink\">Further reading </span>: 7.1 (perturbation maps, Figure 5)"
   ]
  },
  {
   "cell_type": "code",
   "execution_count": null,
   "metadata": {},
   "outputs": [],
   "source": [
    "#generate transformation network based on ligands\n",
    "path_to_ligands =\"/home/anna/Documents/september_2022_workshops/bssccpbiosim2022/RBFE_tutorial/inputs/ligands\"\n",
    "ligand_files = sorted(glob.glob(f\"{path_to_ligands}/*.sdf\"))\n",
    "\n",
    "ligands = []\n",
    "ligand_names = []\n",
    "\n",
    "for filepath in ligand_files:\n",
    "    # append the molecule object to a list.\n",
    "    ligands.append(BSS.IO.readMolecules(filepath)[0])\n",
    "    \n",
    "    # append the molecule name to another list so that we can use the name of each molecule in our workflow.\n",
    "    ligand_names.append(filepath.split(\"/\")[-1].replace(\".sdf\",\"\"))\n",
    "\n",
    "transformations, lomap_scores = BSS.Align.generateNetwork(ligands, plot_network=True, names=ligand_names)\n"
   ]
  },
  {
   "cell_type": "markdown",
   "metadata": {},
   "source": [
    "BioSimSpace uses NetworkX which works with node indices for node names. Let's adjust our list of edges to have ligand names instead of ligand indices. We also generate a dictionary that contains all of the network information we need downstream."
   ]
  },
  {
   "cell_type": "code",
   "execution_count": null,
   "metadata": {},
   "outputs": [],
   "source": [
    "pert_network_dict = {}\n",
    "transformations_named = [(ligand_names[transf[0]], ligand_names[transf[1]]) for transf in transformations]\n",
    "for score, transf in sorted(zip(lomap_scores, transformations_named)):\n",
    "    pert_network_dict[transf] = score\n",
    "    print(transf, score)\n"
   ]
  },
  {
   "cell_type": "markdown",
   "metadata": {},
   "source": [
    "Unfortunately, even cutting-edge perturbation network generators such as LOMAP require some manual tweaking. In some cases, a ligand will have poor LOMAP scores on its edges and is therefore likely to be unreliable. To increase its reliability we often want to create an additional edge to this ligand, which can be easily done by appending the edge to our list of edges. Additionally, we usually want to avoid any ring breaking/forming transformations.\n",
    "\n",
    "To this end, we can introduce a ligand 'intermediate_H' that contains no atoms on the R-group. This makes it easier for the FEP code to perturb to cyclical R-groups. Using this type of network manipulation allows the user to include some cycles into the network, which is good for statistical performance of FEP predictions.\n",
    "\n",
    "Copy this ligand from the inputs/ligands/intermediate folder into the inputs/ligands folder and rerun the above network generation.\n",
    "\n",
    "Below, add any other perturbations, either with the intermediate, or any other ligands to complete a cycle.\n"
   ]
  },
  {
   "cell_type": "code",
   "execution_count": null,
   "metadata": {},
   "outputs": [],
   "source": [
    "pert_network_dict[('ejm47', 'ejm49')] = 0.1\n",
    "\n",
    "pert_network_dict"
   ]
  },
  {
   "cell_type": "markdown",
   "metadata": {},
   "source": [
    "Another way to manipulate the dictionary is to remove entries (i.e. remove edges from the network). When we look at the edges suggested by LOMAP that have low scores, we see that some are likely to be unreliable in FEP. Luckily, this is because cycle formation/removal in a single-topology-style FEP must be from/to a hydrogen, not a carbon atom. This is why we have introduced 'intermediate_H', so this has largely been solved by generating the network again above. Still, the below syntax can be used if any edges are to be removed."
   ]
  },
  {
   "cell_type": "code",
   "execution_count": null,
   "metadata": {},
   "outputs": [],
   "source": [
    "for key in [('A', 'B'), ('C', 'D')]:\n",
    "    del pert_network_dict[key]\n",
    "pert_network_dict"
   ]
  },
  {
   "cell_type": "markdown",
   "metadata": {},
   "source": [
    "##### <span style=\"color:teal\">Preparing for the FEP pipeline</span>  \n",
    "\n",
    "Once we have our protein, ligands, and have planned the network, we need to write all the files we need for running the FEP Pipeline.\n",
    "\n",
    "This includes the following files:\n",
    " - ligands.dat , which includes all the ligands that must be prepared\n",
    " - network.dat , which includes all the perturbations and the number of lambda windows\n",
    " - protocol.dat , which includes the details of the protocol used"
   ]
  },
  {
   "cell_type": "code",
   "execution_count": null,
   "metadata": {},
   "outputs": [],
   "source": [
    "# write ligands file.\n",
    "with open(\"ligands.dat\", \"w\") as ligands_file:\n",
    "    writer = csv.writer(ligands_file)\n",
    "    for lig in ligand_names:\n",
    "        writer.writerow([lig])\n",
    "\n",
    "# write perts file. Base the lambda schedule on the file generated in the previous cell.\n",
    "np.set_printoptions(formatter={'float': '{: .4f}'.format})\n",
    "\n",
    "# from protocol, derive the engine we want to use on the cluster.\n",
    "engine = node.getInput('FEP Engine').upper()\n",
    "\n",
    "with open(\"network.dat\", \"w\") as network_file:\n",
    "\n",
    "    writer = csv.writer(network_file, delimiter=\" \")\n",
    "    \n",
    "    for pert, lomap_score in pert_network_dict.items():\n",
    "        # based on the provided (at top of notebook) lambda allocations and LOMAP threshold, decide allocation.\n",
    "        if lomap_score == None or lomap_score < float(node.getInput(\"LOMAP Threshold\")):\n",
    "            num_lambda = node.getInput(\"DiffLambdaWindows\")\n",
    "        else:\n",
    "            num_lambda = node.getInput(\"LambdaWindows\")\n",
    "            \n",
    "       \n",
    "        # given the number of allocated lambda windows, generate an array for parsing downstream.\n",
    "        lam_array_np = np.around(np.linspace(0, 1, int(num_lambda)), decimals=5)\n",
    "\n",
    "        # make the array into a format readable by bash.\n",
    "        lam_array = str(lam_array_np).replace(\"[ \", \"\").replace(\"]\", \"\").replace(\"  \", \",\").replace('\\n', '')\n",
    "\n",
    "        # write out both directions for this perturbation.\n",
    "        writer.writerow([pert[0], pert[1], len(lam_array_np), lam_array, engine])\n",
    "        writer.writerow([pert[1], pert[0], len(lam_array_np), lam_array, engine])         \n",
    "\n",
    "# create protocol. \n",
    "protocol = [\n",
    "    f\"ligand forcefield = {node.getInput('Ligand FF')}\",\n",
    "    f\"protein forcefield = {node.getInput('Protein FF')}\",\n",
    "    f\"solvent = {node.getInput('Water Model')}\",\n",
    "    f\"box edges = {node.getInput('Box Edges')}\",\n",
    "    f\"box type = {node.getInput('Box Shape')}\",\n",
    "    f\"protocol = default\",\n",
    "    f\"sampling = {node.getInput('Run Time')}\",\n",
    "    f\"engine = {node.getInput('FEP Engine').upper()}\"\n",
    "]\n",
    "\n",
    "# write protocol to file.\n",
    "with open(\"protocol.dat\", \"w\") as protocol_file:\n",
    "    writer = csv.writer(protocol_file)\n",
    "\n",
    "    for prot_line in protocol:\n",
    "        \n",
    "        writer.writerow([prot_line])"
   ]
  },
  {
   "cell_type": "markdown",
   "metadata": {},
   "source": [
    "##### <span style=\"color:teal\">Parallelisation - Running the MD simulations</span>\n",
    "\n",
    "Once all the files are written, the folder can be copied to a computing cluster so that the simulations can be parallelised. A simple example script for this for a slurm cluster (without any analysis) is included in the scripts directory.\n",
    "\n",
    "This calls the following scripts in order:\n",
    "\n",
    " - Ligand preparation (BSSligprep.py) - The ligand and protein are paramaterised, combined, and solvated. Equilibration is carried out.\n",
    "\n",
    " - FEP preparation (BSSprepFEP.py) - For the perturbation, the ligands are mapped according to their maximum common substructure, and a perturbable system is created. The folders for the FEP run for SOMD are written.\n",
    "\n",
    " - Running the production windows (runFEP.sh) - As each lambda window can be run independantly of other lambda windows, this is where most of the parallelisation takes place. Each window is submitted as part of a slurm array job.\n",
    "\n",
    "\n",
    "More detailed scripts, including one for an LSF cluster, are in the [BioSimSpace Tutorials](https://github.com/michellab/BioSimSpaceTutorials/tree/main/04_fep/execution_model/scripts).\n",
    "\n",
    "As these would take too long to run in the span of a workshop, outputs from the runs above are in the outputs directory. We will analyse these below."
   ]
  },
  {
   "cell_type": "markdown",
   "metadata": {},
   "source": [
    "## <span style=\"color:teal\">Analysis</span>\n",
    "Once we have obtained our results, we want to analyse them. It is best practice to run repeats of the simulations, but in this case here we only have one repeat for each perturbation.\n",
    "\n",
    "We will first calculate the RBFE. This is achieved relatively simply in BSS by using 'analyse'. This implements the auto equilibrium detection and statistical inefficiency from the alchemlyb python implementation in order to obtain uncorrelated samples. Following this, MBAR is used as the default analysis method.\n",
    "\n",
    " <span style=\"color:pink\">Further reading </span>: 8.1,8.2,8.3"
   ]
  },
  {
   "cell_type": "code",
   "execution_count": null,
   "metadata": {},
   "outputs": [],
   "source": [
    "# import from path (github clone) as a conda install is not available yet for freenrgworkflows.\n",
    "import sys\n",
    "sys.path.insert(1, '../freenrgworkflows/networkanalysis/')\n",
    "\n",
    "import networkanalysis\n",
    "import experiments\n",
    "import stats\n"
   ]
  },
  {
   "cell_type": "code",
   "execution_count": null,
   "metadata": {},
   "outputs": [],
   "source": [
    "# analyse all the runs in the network and place them into a dictionary for later\n",
    "bound_pmf_dict = {}  # for the intial results\n",
    "free_pmf_dict = {}\n",
    "bound_matrix_dict = {}  # for the overlap matrix\n",
    "free_matrix_dict = {}\n",
    "diff_dict = {}  # for the result for that transformation\n",
    "\n",
    "# we will also create a list of all the perturbation names for the analysis as well\n",
    "perturbations = []\n",
    "\n",
    "for line in open(\"./execution_model/network.dat\", \"r\"):\n",
    "    lig_0 = line.split()[0]\n",
    "    lig_1 = line.split()[1]\n",
    "    pert = f\"{lig_0}~{lig_1}\"\n",
    "    pmf_free, overlap_matrix_free = BSS.FreeEnergy.Relative.analyse(f'outputs/SOMD/{pert}/free')\n",
    "    pmf_bound, overlap_matrix_bound = BSS.FreeEnergy.Relative.analyse(f'outputs/SOMD/{pert}/bound')\n",
    "    freenrg_rel = BSS.FreeEnergy.Relative.difference(pmf_bound, pmf_free)\n",
    "    bound_pmf_dict.update({pert: pmf_bound})\n",
    "    bound_matrix_dict.update({pert: overlap_matrix_bound})\n",
    "    free_pmf_dict.update({pert: pmf_free})\n",
    "    free_matrix_dict.update({pert: overlap_matrix_free})\n",
    "    diff_dict.update({pert: freenrg_rel})\n",
    "    perturbations.append(pert)\n"
   ]
  },
  {
   "cell_type": "markdown",
   "metadata": {},
   "source": [
    "<span style=\"color:purple\">Extra:</span>\n",
    "Instead of using MBAR, try using TI (Thermodynamic Integration) to anaylse the results.\n",
    "This can be done by setting the estimator to TI when analysing.\n",
    "\n",
    "```python\n",
    "pmf, overlap_matrix = BSS.FreeEnergy.Relative.analyse(f'{folder}', estimator=\"TI\")\n",
    "```\n",
    "\n",
    "Are the results different?\n"
   ]
  },
  {
   "cell_type": "markdown",
   "metadata": {},
   "source": [
    "##### <span style=\"color:teal\">Checking the overlap</span>\n",
    "For MBAR, we can assess the reliability of the calculations by checking the phase space overlap between lambda windows. The off-diagonals should be atleast 0.03 so that the obtained free energy estimate is reliable.\n",
    "\n",
    "The check_overlap function should return a warning if the value for any off-diagonal is less than 0.03 - otherwise, there will be no output for it.\n",
    "\n",
    " <span style=\"color:pink\">Further reading </span>: 8.5 (overlap matrix)"
   ]
  },
  {
   "cell_type": "code",
   "execution_count": null,
   "metadata": {},
   "outputs": [],
   "source": [
    "# check the overlap for each perturbation\n",
    "for pert in perturbations:\n",
    "    bound_overlap = bound_matrix_dict[pert]\n",
    "    BSS.FreeEnergy.Relative.check_overlap(bound_overlap)\n",
    "    free_overlap = free_matrix_dict[pert]\n",
    "    BSS.FreeEnergy.Relative.check_overlap(free_overlap)"
   ]
  },
  {
   "cell_type": "markdown",
   "metadata": {},
   "source": [
    "We can also plot the overlap for a chosen leg of a perturbation to visualise it."
   ]
  },
  {
   "cell_type": "code",
   "execution_count": null,
   "metadata": {},
   "outputs": [],
   "source": [
    "pert = \"ejm31~ejm42\" # choose the perturbation\n",
    "bound_overlap = bound_matrix_dict[pert]\n",
    "free_overlap = free_matrix_dict[pert]\n",
    "\n",
    "ax = _plot_mbar_overlap_matrix(bound_overlap) # pick either the bound or the free overlap\n",
    "ax.set_title(f\"Overlap matrix\")\n",
    "\n",
    "ax.show()"
   ]
  },
  {
   "cell_type": "markdown",
   "metadata": {},
   "source": [
    "<span style=\"color:purple\">Extra:</span>\n",
    "If you have analysed the results using TI, plot the dhdl graph.\n",
    "\n",
    "```python\n",
    "ax = _plot_ti_dhdl([overlap])\n",
    "```"
   ]
  },
  {
   "cell_type": "markdown",
   "metadata": {},
   "source": [
    "We can also look at the value across lambda windows. This can be useful when considering different repeats."
   ]
  },
  {
   "cell_type": "markdown",
   "metadata": {},
   "source": [
    "##### <span style=\"color:teal\">Comparing to experimental binding affinities</span>\n",
    "\n",
    "Next, we want to visualise our results whilst comparing them to experimental.\n",
    "In this example here, TYK2 has binding affinities in Ki, and can be converted using ΔG = RTlnK . It is important at this stage to make sure that the units match (kcal/mol).\n",
    "\n",
    "The binding affinities have already been converted in the experimental.csv files. Using these we will then also calculate the ΔΔG."
   ]
  },
  {
   "cell_type": "code",
   "execution_count": null,
   "metadata": {},
   "outputs": [],
   "source": [
    "# create a dictionary for the experimental values\n",
    "exper_val_dict = {}\n",
    "# now we can also create a dictionary with all the experimental values for the perturbations\n",
    "exper_diff_dict = {}\n",
    "\n",
    "# open the file with the experimental values\n",
    "for line in open('experimental.csv', 'r'):\n",
    "    lig = line.split(\",\")[0]\n",
    "    exper = line.split(\",\")[1]\n",
    "    exper_err = 0.4\n",
    "    exper_val_dict.update(lig:(exper, exper_err))\n",
    "\n",
    "# calculate the experimental RBFEs\n",
    "for line in open(\"./execution_model/network.dat\", \"r\"):\n",
    "    lig_0 = line.split()[0]\n",
    "    lig_1 = line.split()[1]\n",
    "    pert = f\"{lig_0}~{lig_1}\"\n",
    "    exper_ddG = exper_val_dict[lig_1][0] - exper_val_dict[lig_0][0]\n",
    "    exper_err = math.sqrt(math.pow(exper_val_dict[lig_0][1], 2) + math.pow(exper_val_dict[lig_1][1], 2))\n",
    "    exper_value = (exper_ddG, exper_err)\n",
    "    exper_diff_dict.update({pert:exper_value})"
   ]
  },
  {
   "cell_type": "code",
   "execution_count": null,
   "metadata": {},
   "outputs": [],
   "source": [
    "# now we have diff_dict, exper_diff_dict, and a list of all our perturbations.\n",
    "# create a data frame with all of these and their errors\n",
    "\n",
    "data = []\n",
    "\n",
    "for pert in perturbations:\n",
    "    data.append([pert, diff_dict[pert][0], diff_dict[pert][1], exper_diff_dict[pert][0], exper_diff_dict[pert][1]])\n",
    "\n",
    "df = pd.DataFrame(data, columns=['perturbation','calc_deltadeltaG','calc_err','exper_deltadeltaG','exper_err'])\n",
    "\n",
    "print(df)\n",
    "\n",
    "# this can also be saved as a csv"
   ]
  },
  {
   "cell_type": "markdown",
   "metadata": {},
   "source": [
    "Now, we can plot our results against the experimental data."
   ]
  },
  {
   "cell_type": "code",
   "execution_count": null,
   "metadata": {},
   "outputs": [],
   "source": [
    "# plot a scatter plot\n",
    "\n",
    "plt.rc('font', size=12)\n",
    "fig, ax = plt.subplots(figsize=(8,8))\n",
    "\n",
    "# get these based on which column the data is in.\n",
    "x = (np.array(df.iloc[0:len(pert),3])).reshape(-1,1)\n",
    "y = np.array(df.iloc[0:len(pert), 1])\n",
    "\n",
    "scatterplot = [plt.scatter(x[:4], y[:4], zorder=10)]\n",
    "\n",
    "#plotting error bars\n",
    "y_er = np.array(df.iloc[0:len(pert), 2])\n",
    "x_er = np.array(df.iloc[0:len(pert), 4])\n",
    "plt.errorbar(x , y,\n",
    "            yerr=y_er,\n",
    "            # xerr=x_er,   # comment this line to hide experimental error bars \\\n",
    "                        # as this can sometimes overcrowd the plot.\n",
    "            ls=\"none\",\n",
    "            lw=0.5, \n",
    "            capsize=2,\n",
    "            color=\"black\",\n",
    "            zorder=5\n",
    "            )\n",
    "\n",
    "# plot 1/2 kcal bounds:\n",
    "plt.fill_between(\n",
    "                x=[-100, 100], \n",
    "                y2=[-100.25,99.75],\n",
    "                y1=[-99.75, 100.25],\n",
    "                lw=0, \n",
    "                zorder=-10,\n",
    "                alpha=0.3,\n",
    "                color=\"grey\")\n",
    "# upper bound:\n",
    "plt.fill_between(\n",
    "                x=[-100, 100], \n",
    "                y2=[-99.5,100.5],\n",
    "                y1=[-99.75, 100.25],\n",
    "                lw=0, \n",
    "                zorder=-10,\n",
    "                color=\"grey\", \n",
    "                alpha=0.2)\n",
    "# lower bound:\n",
    "plt.fill_between(\n",
    "                x=[-100, 100], \n",
    "                y2=[-100.25,99.75],\n",
    "                y1=[-100.5, 99.5],\n",
    "                lw=0, \n",
    "                zorder=-10,\n",
    "                color=\"grey\", \n",
    "                alpha=0.2)\n",
    "\n",
    "# get the bounds. This can be done with min/max or simply by hand.\n",
    "all_freenrg_values_pre = []\n",
    "x = (np.array(x_data.iloc[0:len(pert),3])).tolist()\n",
    "y = (np.array(y_data.iloc[0:len(pert), 1])).tolist()\n",
    "all_freenrg_values_pre.append(x)\n",
    "all_freenrg_values_pre.append(y)\n",
    "\n",
    "all_freenrg_values = []\n",
    "for sublist in all_freenrg_values_pre:\n",
    "    for item in sublist:\n",
    "        all_freenrg_values.append(item)\n",
    "\n",
    "min_lim = min(all_freenrg_values)   \n",
    "max_lim = max(all_freenrg_values)\n",
    "\n",
    "# for a scatterplot we want the axis ranges to be the same. \n",
    "plt.xlim(min_lim*1.3, max_lim*1.3)\n",
    "plt.ylim(min_lim*1.3, max_lim*1.3)\n",
    "\n",
    "plt.axhline(color=\"black\", zorder=1)\n",
    "plt.axvline(color=\"black\", zorder=1)\n",
    "\n",
    "#plt.xlabel('ΔΔG for experimental (kcal/mol)')\n",
    "#plt.ylabel('ΔΔG for calculated (kcal/mol)')\n",
    "plt.ylabel(\"Computed $\\Delta\\Delta$G$_{bind}$ / kcal$\\cdot$mol$^{-1}$\")\n",
    "plt.xlabel(\"Experimental $\\Delta\\Delta$G$_{bind}$ / kcal$\\cdot$mol$^{-1}$\")\n",
    "\n",
    "plt.savefig(f'r2_correlation.png')\n"
   ]
  },
  {
   "cell_type": "markdown",
   "metadata": {},
   "source": [
    "We can also plot a bar graph of the results."
   ]
  },
  {
   "cell_type": "code",
   "execution_count": null,
   "metadata": {},
   "outputs": [],
   "source": []
  },
  {
   "cell_type": "markdown",
   "metadata": {},
   "source": [
    " <span style=\"color:pink\">Further reading </span>: 8.7\n"
   ]
  },
  {
   "cell_type": "markdown",
   "metadata": {},
   "source": []
  }
 ],
 "metadata": {
  "kernelspec": {
   "display_name": "Python 3 (ipykernel)",
   "language": "python",
   "name": "python3"
  },
  "language_info": {
   "codemirror_mode": {
    "name": "ipython",
    "version": 3
   },
   "file_extension": ".py",
   "mimetype": "text/x-python",
   "name": "python",
   "nbconvert_exporter": "python",
   "pygments_lexer": "ipython3",
   "version": "3.9.13"
  },
  "vscode": {
   "interpreter": {
    "hash": "d79bb85316fa6c998e385cc39903e056bffeb3f6098416e9c269ddd32175e919"
   }
  }
 },
 "nbformat": 4,
 "nbformat_minor": 2
}
