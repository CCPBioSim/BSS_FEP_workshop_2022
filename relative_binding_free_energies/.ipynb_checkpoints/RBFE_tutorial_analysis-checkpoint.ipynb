{
 "cells": [
  {
   "cell_type": "markdown",
   "metadata": {},
   "source": [
    "# <span style=\"color:teal\">RBFE Network Tutorial - Setup</span>\n",
    "This is the RBFE (Relative Binding Free Energy) analysis jupyter notebook for the September 2022 CCPBioSim Workshop.\n",
    "It includes core as well as <span style=\"color:purple\">extra</span> options.\n",
    "\n",
    "**<span style=\"color:teal\">Authors</span>**\n",
    " - Anna Herz (@annamherz)\n",
    " - This is adapted from the FEP BioSimSpace Tutorial written by Jenke Scheen (https://github.com/michellab/BioSimSpaceTutorials/tree/main/04_fep).\n",
    "\n",
    "**<span style=\"color:teal\">Reading Time:</span>**\n",
    "~ XX\n",
    "\n",
    "##### <span style=\"color:teal\">Required knowledge</span> \n",
    " - Basic python\n",
    " - Part 1 of this workshop (Introduction to Alchemistry with BioSimSpace)\n",
    "    - this should include basic knowledge of the principles behind RBFE\n",
    "\n",
    "##### <span style=\"color:teal\">Learning objectives</span>  \n",
    " - Setup an FEP (Free Energy Perturbation) pipeline using BioSimSpace and SOMD.\n",
    " - Analyse and plot the results.\n",
    "\n",
    "### <span style=\"color:teal\">Table of Contents</span>  \n",
    "1. [Introduction](#intro)\n",
    "    1.1 [RBFE: A Brief Overview](#theory)     \n",
    "    2.2 [Implementation in BioSimSpace](#implementation)    \n",
    "    2.3 [Loading the System](#loading)      \n",
    "2. [Setup of RBFE simulations](#abfe)   \n",
    "    2.1 [Theory: A Brief Overview](#theory)     \n",
    "    2.2 [Implementation in BioSimSpace](#implementation)    \n",
    "    2.3 [Loading the System](#loading)     \n",
    "\n",
    "<span style=\"color:pink\">Further reading </span> references some sections of the [LiveComs Best Practices for Alchemical Free Energy Calculations](https://livecomsjournal.org/index.php/livecoms/article/view/v2i1e18378).\n",
    "\n",
    "**<span style=\"color:teal\">Jupyter Cheat Sheet</span>**\n",
    "- To run the currently highlighted cell and move focus to the next cell, hold <kbd>&#x21E7; Shift</kbd> and press <kbd>&#x23ce; Enter</kbd>;\n",
    "- To run the currently highlighted cell and keep focus in the same cell, hold <kbd>&#x21E7; ctrl</kbd> and press <kbd>&#x23ce; Enter</kbd>;\n",
    "- To get help for a specific function, place the cursor within the function's brackets, hold <kbd>&#x21E7; Shift</kbd>, and press <kbd>&#x21E5; Tab</kbd>;\n",
    "- You can find the full documentation at [biosimspace.org](https://biosimspace.org).\n"
   ]
  },
  {
   "cell_type": "code",
   "execution_count": 1,
   "metadata": {},
   "outputs": [
    {
     "ename": "ModuleNotFoundError",
     "evalue": "BioSimSpace currently requires the Sire Python interpreter: www.siremol.org",
     "output_type": "error",
     "traceback": [
      "\u001b[0;31m---------------------------------------------------------------------------\u001b[0m",
      "\u001b[0;31mModuleNotFoundError\u001b[0m                       Traceback (most recent call last)",
      "File \u001b[0;32m~/BioSimSpace/python/BioSimSpace/__init__.py:53\u001b[0m, in \u001b[0;36m<module>\u001b[0;34m\u001b[0m\n\u001b[1;32m     52\u001b[0m \u001b[38;5;28;01mtry\u001b[39;00m:\n\u001b[0;32m---> 53\u001b[0m     \u001b[38;5;28;01mimport\u001b[39;00m \u001b[38;5;21;01mSire\u001b[39;00m\n\u001b[1;32m     54\u001b[0m     \u001b[38;5;28;01mdel\u001b[39;00m Sire\n",
      "\u001b[0;31mModuleNotFoundError\u001b[0m: No module named 'Sire'",
      "\nDuring handling of the above exception, another exception occurred:\n",
      "\u001b[0;31mModuleNotFoundError\u001b[0m                       Traceback (most recent call last)",
      "Input \u001b[0;32mIn [1]\u001b[0m, in \u001b[0;36m<cell line: 2>\u001b[0;34m()\u001b[0m\n\u001b[1;32m      1\u001b[0m \u001b[38;5;66;03m# import libraries\u001b[39;00m\n\u001b[0;32m----> 2\u001b[0m \u001b[38;5;28;01mimport\u001b[39;00m \u001b[38;5;21;01mBioSimSpace\u001b[39;00m \u001b[38;5;28;01mas\u001b[39;00m \u001b[38;5;21;01mBSS\u001b[39;00m\n\u001b[1;32m      3\u001b[0m \u001b[38;5;28;01mimport\u001b[39;00m \u001b[38;5;21;01mos\u001b[39;00m\n\u001b[1;32m      4\u001b[0m \u001b[38;5;28;01mimport\u001b[39;00m \u001b[38;5;21;01mglob\u001b[39;00m\n",
      "File \u001b[0;32m~/BioSimSpace/python/BioSimSpace/__init__.py:56\u001b[0m, in \u001b[0;36m<module>\u001b[0;34m\u001b[0m\n\u001b[1;32m     54\u001b[0m     \u001b[38;5;28;01mdel\u001b[39;00m Sire\n\u001b[1;32m     55\u001b[0m \u001b[38;5;28;01mexcept\u001b[39;00m \u001b[38;5;167;01mModuleNotFoundError\u001b[39;00m:\n\u001b[0;32m---> 56\u001b[0m     \u001b[38;5;28;01mraise\u001b[39;00m \u001b[38;5;167;01mModuleNotFoundError\u001b[39;00m(\u001b[38;5;124m\"\u001b[39m\u001b[38;5;124mBioSimSpace currently requires the Sire \u001b[39m\u001b[38;5;124m\"\u001b[39m\n\u001b[1;32m     57\u001b[0m         \u001b[38;5;241m+\u001b[39m \u001b[38;5;124m\"\u001b[39m\u001b[38;5;124mPython interpreter: www.siremol.org\u001b[39m\u001b[38;5;124m\"\u001b[39m)\n\u001b[1;32m     59\u001b[0m \u001b[38;5;66;03m# Determine whether we're being imported from a Jupyter notebook.\u001b[39;00m\n\u001b[1;32m     60\u001b[0m \u001b[38;5;28;01mtry\u001b[39;00m:\n",
      "\u001b[0;31mModuleNotFoundError\u001b[0m: BioSimSpace currently requires the Sire Python interpreter: www.siremol.org"
     ]
    }
   ],
   "source": [
    "# import libraries\n",
    "import BioSimSpace as BSS\n",
    "import os\n",
    "import glob\n",
    "import csv\n",
    "import numpy as np\n",
    "from alchemlyb.visualisation import plot_mbar_overlap_matrix as _plot_mbar_overlap_matrix\n",
    "from alchemlyb.visualisation import plot_ti_dhdl as _plot_ti_dhdl\n",
    "import math\n",
    "import pandas as pd\n",
    "\n",
    "# define all the folder locations\n",
    "main_folder =  os.getcwd()\n",
    "print(main_folder)\n",
    "# other folders"
   ]
  },
  {
   "cell_type": "markdown",
   "metadata": {},
   "source": [
    "## <span style=\"color:teal\">Analysis</span>\n",
    "\n",
    "Once we have obtained our results, we want to analyse them. The basics of this analysis have already been covered in the introduction to alchemistry part of this workshop. As it would take some time to analyse all of these runs now, they have already been analysed to give the RBFE result in a csv file format. These files are located in the 'output' folder. It is best practice to run repeats of the simulations, which is why there are multiple results files, one for each repeat.\n",
    "\n",
    "First we will look at "
   ]
  },
  {
   "cell_type": "code",
   "execution_count": null,
   "metadata": {},
   "outputs": [],
   "source": [
    "# import from path (github clone) as a conda install is not available yet for freenrgworkflows.\n",
    "import sys\n",
    "sys.path.insert(1, '../freenrgworkflows/networkanalysis/')\n",
    "\n",
    "import networkanalysis\n",
    "import experiments\n",
    "import stats\n"
   ]
  },
  {
   "cell_type": "code",
   "execution_count": null,
   "metadata": {},
   "outputs": [],
   "source": [
    "# analyse all the runs in the network and place them into a dictionary for later\n",
    "bound_pmf_dict = {}  # for the intial results\n",
    "free_pmf_dict = {}\n",
    "bound_matrix_dict = {}  # for the overlap matrix\n",
    "free_matrix_dict = {}\n",
    "diff_dict = {}  # for the result for that transformation\n",
    "\n",
    "# we will also create a list of all the perturbation names for the analysis as well\n",
    "perturbations = []\n",
    "\n",
    "for line in open(\"./execution_model/network.dat\", \"r\"):\n",
    "    lig_0 = line.split()[0]\n",
    "    lig_1 = line.split()[1]\n",
    "    pert = f\"{lig_0}~{lig_1}\"\n",
    "    pmf_free, overlap_matrix_free = BSS.FreeEnergy.Relative.analyse(f'outputs/SOMD/{pert}/free')\n",
    "    pmf_bound, overlap_matrix_bound = BSS.FreeEnergy.Relative.analyse(f'outputs/SOMD/{pert}/bound')\n",
    "    freenrg_rel = BSS.FreeEnergy.Relative.difference(pmf_bound, pmf_free)\n",
    "    bound_pmf_dict.update({pert: pmf_bound})\n",
    "    bound_matrix_dict.update({pert: overlap_matrix_bound})\n",
    "    free_pmf_dict.update({pert: pmf_free})\n",
    "    free_matrix_dict.update({pert: overlap_matrix_free})\n",
    "    diff_dict.update({pert: freenrg_rel})\n",
    "    perturbations.append(pert)\n"
   ]
  },
  {
   "cell_type": "markdown",
   "metadata": {},
   "source": [
    "artificially have some results that are not great and look at these more specifically. have these outputs ready to carefully consider.\n"
   ]
  },
  {
   "cell_type": "code",
   "execution_count": null,
   "metadata": {},
   "outputs": [],
   "source": [
    "# check the overlap for each perturbation\n",
    "for pert in perturbations:\n",
    "    bound_overlap = bound_matrix_dict[pert]\n",
    "    BSS.FreeEnergy.Relative.check_overlap(bound_overlap)\n",
    "    free_overlap = free_matrix_dict[pert]\n",
    "    BSS.FreeEnergy.Relative.check_overlap(free_overlap)"
   ]
  },
  {
   "cell_type": "markdown",
   "metadata": {},
   "source": [
    "##### <span style=\"color:teal\">Comparing to experimental binding affinities</span>\n",
    "\n",
    "Next, we want to visualise our results whilst comparing them to experimental.\n",
    "In this example here, TYK2 has binding affinities in Ki, and can be converted using ΔG = RTlnK . It is important at this stage to make sure that the units match (kcal/mol).\n",
    "\n",
    "The binding affinities have already been converted in the experimental.csv files. Using these we will then also calculate the ΔΔG."
   ]
  },
  {
   "cell_type": "code",
   "execution_count": null,
   "metadata": {},
   "outputs": [],
   "source": [
    "# create a dictionary for the experimental values\n",
    "exper_val_dict = {}\n",
    "# now we can also create a dictionary with all the experimental values for the perturbations\n",
    "exper_diff_dict = {}\n",
    "\n",
    "# open the file with the experimental values\n",
    "for line in open('experimental.csv', 'r'):\n",
    "    lig = line.split(\",\")[0]\n",
    "    exper = line.split(\",\")[1]\n",
    "    exper_err = 0.4\n",
    "    exper_val_dict.update(lig:(exper, exper_err))\n",
    "\n",
    "# calculate the experimental RBFEs\n",
    "for line in open(\"./execution_model/network.dat\", \"r\"):\n",
    "    lig_0 = line.split()[0]\n",
    "    lig_1 = line.split()[1]\n",
    "    pert = f\"{lig_0}~{lig_1}\"\n",
    "    exper_ddG = exper_val_dict[lig_1][0] - exper_val_dict[lig_0][0]\n",
    "    exper_err = math.sqrt(math.pow(exper_val_dict[lig_0][1], 2) + math.pow(exper_val_dict[lig_1][1], 2))\n",
    "    exper_value = (exper_ddG, exper_err)\n",
    "    exper_diff_dict.update({pert:exper_value})"
   ]
  },
  {
   "cell_type": "code",
   "execution_count": null,
   "metadata": {},
   "outputs": [],
   "source": [
    "# now we have diff_dict, exper_diff_dict, and a list of all our perturbations.\n",
    "# create a data frame with all of these and their errors\n",
    "\n",
    "data = []\n",
    "\n",
    "for pert in perturbations:\n",
    "    data.append([pert, diff_dict[pert][0], diff_dict[pert][1], exper_diff_dict[pert][0], exper_diff_dict[pert][1]])\n",
    "\n",
    "df = pd.DataFrame(data, columns=['perturbation','calc_deltadeltaG','calc_err','exper_deltadeltaG','exper_err'])\n",
    "\n",
    "print(df)\n",
    "\n",
    "# this can also be saved as a csv"
   ]
  },
  {
   "cell_type": "markdown",
   "metadata": {},
   "source": [
    "Now, we can plot our results against the experimental data."
   ]
  },
  {
   "cell_type": "code",
   "execution_count": null,
   "metadata": {},
   "outputs": [],
   "source": [
    "# plot a scatter plot\n",
    "\n",
    "plt.rc('font', size=12)\n",
    "fig, ax = plt.subplots(figsize=(8,8))\n",
    "\n",
    "# get these based on which column the data is in.\n",
    "x = (np.array(df.iloc[0:len(pert),3])).reshape(-1,1)\n",
    "y = np.array(df.iloc[0:len(pert), 1])\n",
    "\n",
    "scatterplot = [plt.scatter(x[:4], y[:4], zorder=10)]\n",
    "\n",
    "#plotting error bars\n",
    "y_er = np.array(df.iloc[0:len(pert), 2])\n",
    "x_er = np.array(df.iloc[0:len(pert), 4])\n",
    "plt.errorbar(x , y,\n",
    "            yerr=y_er,\n",
    "            # xerr=x_er,   # comment this line to hide experimental error bars \\\n",
    "                        # as this can sometimes overcrowd the plot.\n",
    "            ls=\"none\",\n",
    "            lw=0.5, \n",
    "            capsize=2,\n",
    "            color=\"black\",\n",
    "            zorder=5\n",
    "            )\n",
    "\n",
    "# plot 1/2 kcal bounds:\n",
    "plt.fill_between(\n",
    "                x=[-100, 100], \n",
    "                y2=[-100.25,99.75],\n",
    "                y1=[-99.75, 100.25],\n",
    "                lw=0, \n",
    "                zorder=-10,\n",
    "                alpha=0.3,\n",
    "                color=\"grey\")\n",
    "# upper bound:\n",
    "plt.fill_between(\n",
    "                x=[-100, 100], \n",
    "                y2=[-99.5,100.5],\n",
    "                y1=[-99.75, 100.25],\n",
    "                lw=0, \n",
    "                zorder=-10,\n",
    "                color=\"grey\", \n",
    "                alpha=0.2)\n",
    "# lower bound:\n",
    "plt.fill_between(\n",
    "                x=[-100, 100], \n",
    "                y2=[-100.25,99.75],\n",
    "                y1=[-100.5, 99.5],\n",
    "                lw=0, \n",
    "                zorder=-10,\n",
    "                color=\"grey\", \n",
    "                alpha=0.2)\n",
    "\n",
    "# get the bounds. This can be done with min/max or simply by hand.\n",
    "all_freenrg_values_pre = []\n",
    "x = (np.array(x_data.iloc[0:len(pert),3])).tolist()\n",
    "y = (np.array(y_data.iloc[0:len(pert), 1])).tolist()\n",
    "all_freenrg_values_pre.append(x)\n",
    "all_freenrg_values_pre.append(y)\n",
    "\n",
    "all_freenrg_values = []\n",
    "for sublist in all_freenrg_values_pre:\n",
    "    for item in sublist:\n",
    "        all_freenrg_values.append(item)\n",
    "\n",
    "min_lim = min(all_freenrg_values)   \n",
    "max_lim = max(all_freenrg_values)\n",
    "\n",
    "# for a scatterplot we want the axis ranges to be the same. \n",
    "plt.xlim(min_lim*1.3, max_lim*1.3)\n",
    "plt.ylim(min_lim*1.3, max_lim*1.3)\n",
    "\n",
    "plt.axhline(color=\"black\", zorder=1)\n",
    "plt.axvline(color=\"black\", zorder=1)\n",
    "\n",
    "#plt.xlabel('ΔΔG for experimental (kcal/mol)')\n",
    "#plt.ylabel('ΔΔG for calculated (kcal/mol)')\n",
    "plt.ylabel(\"Computed $\\Delta\\Delta$G$_{bind}$ / kcal$\\cdot$mol$^{-1}$\")\n",
    "plt.xlabel(\"Experimental $\\Delta\\Delta$G$_{bind}$ / kcal$\\cdot$mol$^{-1}$\")\n",
    "\n",
    "plt.savefig(f'r2_correlation.png')\n"
   ]
  },
  {
   "cell_type": "markdown",
   "metadata": {},
   "source": [
    "We can also plot a bar graph of the results."
   ]
  },
  {
   "cell_type": "code",
   "execution_count": null,
   "metadata": {},
   "outputs": [],
   "source": []
  },
  {
   "cell_type": "markdown",
   "metadata": {},
   "source": [
    " <span style=\"color:pink\">Further reading </span>: 8.7\n"
   ]
  },
  {
   "cell_type": "markdown",
   "metadata": {},
   "source": []
  }
 ],
 "metadata": {
  "kernelspec": {
   "display_name": "Python 3 (ipykernel)",
   "language": "python",
   "name": "python3"
  },
  "language_info": {
   "codemirror_mode": {
    "name": "ipython",
    "version": 3
   },
   "file_extension": ".py",
   "mimetype": "text/x-python",
   "name": "python",
   "nbconvert_exporter": "python",
   "pygments_lexer": "ipython3",
   "version": "3.9.12"
  },
  "varInspector": {
   "cols": {
    "lenName": 16,
    "lenType": 16,
    "lenVar": 40
   },
   "kernels_config": {
    "python": {
     "delete_cmd_postfix": "",
     "delete_cmd_prefix": "del ",
     "library": "var_list.py",
     "varRefreshCmd": "print(var_dic_list())"
    },
    "r": {
     "delete_cmd_postfix": ") ",
     "delete_cmd_prefix": "rm(",
     "library": "var_list.r",
     "varRefreshCmd": "cat(var_dic_list()) "
    }
   },
   "types_to_exclude": [
    "module",
    "function",
    "builtin_function_or_method",
    "instance",
    "_Feature"
   ],
   "window_display": false
  },
  "vscode": {
   "interpreter": {
    "hash": "d79bb85316fa6c998e385cc39903e056bffeb3f6098416e9c269ddd32175e919"
   }
  }
 },
 "nbformat": 4,
 "nbformat_minor": 2
}
