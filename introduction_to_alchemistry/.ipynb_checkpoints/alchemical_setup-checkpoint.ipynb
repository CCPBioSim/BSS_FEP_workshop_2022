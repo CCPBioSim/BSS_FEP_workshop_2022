{
 "cells": [
  {
   "cell_type": "markdown",
   "metadata": {},
   "source": [
    "# <span style=\"color:teal\">Alchemical free energy setup</span>\n",
    "\n",
    "This jupyter notebook is an introduction alchemical free energy methods with BioSimSpace for the September 2022 CCPBioSim Workshop.\n",
    "It includes core as well as <span style=\"color:purple\">extra</span> options.\n",
    "\n",
    "<a rel=\"license\" href=\"http://creativecommons.org/licenses/by/4.0/\"><img alt=\"Creative Commons Licence\" style=\"border-width:0\" src=\"https://i.creativecommons.org/l/by/4.0/88x31.png\" title='This work is licensed under a Creative Commons Attribution 4.0 International License.' align=\"right\"/></a>\n",
    "\n",
    "**<span style=\"color:teal\">Authors</span>**\n",
    "- [Antonia Mey -- @ppxasjsm](https://github.com/ppxasjsm)   \n",
    "- [Lester Hedges -- @lohedges](https://github.com/lohedges)\n",
    "- edited and expanded by [Finlay Clark -- @fjclark](https://github.com/fjclark) and [Anna Herz -- @annamherz](https://github.com/annamherz)\n",
    "\n",
    "**<span style=\"color:teal\">Reading Time:</span>**\n",
    "~ 30 mins\n",
    "\n",
    "##### <span style=\"color:teal\">Required knowledge</span> \n",
    " - Basic python\n",
    " - Presentation : [<span style=\"color:pink\">Introduction to alchemical free energy methods</span>](slides/CCPBioSim-FEP-tutorial.pdf) TODOnewslides\n",
    "\n",
    "##### <span style=\"color:teal\">Learning objectives</span> \n",
    "- Setup an alchemical solvation free energy simulation using BioSimSpace and SOMD\n",
    "- Setup an alchemical solvation free energy simulation using BioSimSpace and Gromacs\n",
    "- Setup an alchemical binding free energy simulation for Gromacs and SOMD using BioSimSpace\n",
    "\n",
    "You will be using the following functions in BioSimSpace:\n",
    "\n",
    "- `BSS.IO.readMolecules()` To load the molecules\n",
    "- `BSS.Parameters.gaff` To parameterise molecules using the Generalised Amber Force Field (GAFF)\n",
    "- `BSS.Parameters.ff14SB` To parameterise a protein using FF14SB\n",
    "- `BSS.Align.matchAtoms()` Maximum Common Substructure matches atoms for the morphing\n",
    "- `BSS.Align.rmsdAlign()` Aligns the molecules to be morphed\n",
    "- `BSS.Align.merge()` Creates a merged molecule used for alchemical simulations\n",
    "- `BSS.Solvent.tip3p()` Solvates a molecule in a tip3 water box\n",
    "- `BSS.Protocol.FreeEnergy()` Defines the free energy protocol\n",
    "- `BSS.FreeEnergy.Relative()` Sets up a leg for a relative free-energy simulation\n",
    "- `BSS.FreeEnergy.Relative.analyse()` To analyse the results of the perturbation\n",
    "\n",
    "### <span style=\"color:teal\">Table of Contents</span>  \n",
    "1. [Working with ligands](#lig)    \n",
    "   1.1 [Loading ligands](#load)   \n",
    "   1.2 [Parametrising ligands](#param)   \n",
    "2. [Morphing ligands](#merge)   \n",
    "   2.1 [MCS](#mcs)   \n",
    "   2.2 [Creating a _merged_ molecule](#merged)   \n",
    "   2.3 [Solvation](#solv)  \n",
    "   2.4 [Reading and writing perturbable systems](#readwrite)   \n",
    "3. [Running a solvation free energy simulation](#free)   \n",
    "   3.1 [Exercises for solvation free energies](#exerc1)   \n",
    "4. [Binding free energy simulation](#bind)   \n",
    "   4.1 [Loading the protein and ligands](#prot)   \n",
    "   4.2 [Paramaterising a protein](#paramp)   \n",
    "   4.3 [Morphing again](#morphp)   \n",
    "   4.4 [Running the binding free energy simulation](#runbind)   \n",
    "   4.5 [Exercises](#exerc2)    \n",
    "5. [Analysis](#ana)   \n",
    "\n",
    " <span style=\"color:pink\">Further reading </span> references some sections of the [LiveComs Best Practices for Alchemical Free Energy Calculations](https://livecomsjournal.org/index.php/livecoms/article/view/v2i1e18378).\n",
    "\n",
    "**<span style=\"color:teal\">Jupyter Cheat Sheet</span>**\n",
    "- To run the currently highlighted cell and move focus to the next cell, hold <kbd>&#x21E7; Shift</kbd> and press <kbd>&#x23ce; Enter</kbd>;\n",
    "- To run the currently highlighted cell and keep focus in the same cell, hold <kbd>&#x21E7; ctrl</kbd> and press <kbd>&#x23ce; Enter</kbd>;\n",
    "- To get help for a specific function, place the cursor within the function's brackets, hold <kbd>&#x21E7; Shift</kbd>, and press <kbd>&#x21E5; Tab</kbd>;\n",
    "- You can find the full documentation at [biosimspace.org](https://biosimspace.org).\n",
    "\n",
    "\n",
    "First, let's import BioSimspace!"
   ]
  },
  {
   "cell_type": "code",
   "execution_count": 2,
   "metadata": {},
   "outputs": [],
   "source": [
    "import BioSimSpace as BSS"
   ]
  },
  {
   "cell_type": "markdown",
   "metadata": {},
   "source": [
    "### <span style=\"color:teal\">1. Free energy of solvation of ethane and methanol</span>\n",
    "<a id=\"lig\"></a>\n",
    "\n",
    "We want to compute the relative free energy of hydration between ethane and methanol, $\\Delta \\Delta G_{\\mathrm{hyd,\\: ethane-methanol}}$. This is the free energy difference between hydrating an ethane molecule in water and a methanol molecule in water.\n",
    "\n",
    "Below you can see a thermodynamic cycle for the relative hydration free energy of ethane and methanol:\n",
    "\n",
    "![therm_cycle](images/Therm_cycle.png)"
   ]
  },
  {
   "cell_type": "markdown",
   "metadata": {},
   "source": [
    "Because free energy is a state function, the total free energy change around the cycle is 0:\n",
    "\n",
    "$\\Delta G^{\\mathrm{ethane}}_{\\mathrm{hyd}} + \\Delta G_{\\mathrm{solv}} - \\Delta G^{\\mathrm{methanol}}_{\\mathrm{hyd}} -  \\Delta G_{\\mathrm{vac}} = 0$\n",
    "\n",
    "This allows us to obtain $\\Delta \\Delta G_{\\mathrm{hyd,\\: ethane-methanol}}$ in terms of $\\Delta G_{\\mathrm{solv}}$ and $\\Delta G_{\\mathrm{vac}}$:\n",
    "\n",
    "$\\Delta G^{\\mathrm{methanol}}_{\\mathrm{hyd}}  - \\Delta G^{\\mathrm{ethane}}_{\\mathrm{hyd}} = \\Delta G_{\\mathrm{solv}} - \\Delta G_{\\mathrm{vac}}$\n",
    "\n",
    "$\\Delta \\Delta G_{\\mathrm{hyd,\\: ethane-methanol}} = \\Delta G_{\\mathrm{solv}} - \\Delta G_{\\mathrm{vac}}$\n",
    "\n",
    "Now we just need to compute these quantities using alchemical simulations.\n",
    "\n",
    "#### <span style=\"color:teal\">1.1 Loading ligands</span>\n",
    "<a id=\"load\"></a>\n",
    "Next, we read in the two molecules we want to perturb. In this case, this is ethane changing to methanol. You can use the BioSimSpace function `BSS.IO.readMolecules()` for this task."
   ]
  },
  {
   "cell_type": "code",
   "execution_count": 34,
   "metadata": {},
   "outputs": [],
   "source": [
    "# We assume the molecules to perturb are the first molecules in each system. (Each file contains a single molecule.)\n",
    "# we use [0] to select this first molecule.\n",
    "ethane = BSS.IO.readMolecules(\"input/ethane.pdb\")[0]\n",
    "methanol = BSS.IO.readMolecules(\"input/methanol.pdb\")[0]"
   ]
  },
  {
   "cell_type": "markdown",
   "metadata": {},
   "source": [
    "To check whether we have selected an atom/molecule/system, a quick check is to print the object, which will tell us which BSS type the object has."
   ]
  },
  {
   "cell_type": "code",
   "execution_count": 12,
   "metadata": {},
   "outputs": [
    {
     "name": "stdout",
     "output_type": "stream",
     "text": [
      "<BioSimSpace.Molecule: nAtoms=8, nResidues=1>\n",
      "<BioSimSpace.Molecule: nAtoms=6, nResidues=1>\n"
     ]
    }
   ],
   "source": [
    "print(ethane)\n",
    "print(methanol)"
   ]
  },
  {
   "cell_type": "markdown",
   "metadata": {},
   "source": [
    "The below cell illustrates the automatic instantiation of BSS objects further - if we do not select the first molecule when we load our system in, even if there is only one molecule in the file, this will be instantiated as a system as a default. Similarly, if we combine molecules it automatically changes the BSS type of the object."
   ]
  },
  {
   "cell_type": "code",
   "execution_count": 13,
   "metadata": {},
   "outputs": [
    {
     "name": "stdout",
     "output_type": "stream",
     "text": [
      "<BioSimSpace.System: nMolecules=1>\n",
      "<BioSimSpace.Molecules: nMolecules=2>\n"
     ]
    }
   ],
   "source": [
    "test_ethane_system = BSS.IO.readMolecules(\"input/ethane.pdb\")\n",
    "print(test_ethane_system)\n",
    "test_combined = (ethane + methanol)\n",
    "print(test_combined)"
   ]
  },
  {
   "cell_type": "markdown",
   "metadata": {},
   "source": [
    "Apart from just the type of the BSS object, it might also be nice to quickly check we are reading in the right molecules so we can visualise them using the `View` class from `BSS.Notebook`."
   ]
  },
  {
   "cell_type": "code",
   "execution_count": 14,
   "metadata": {},
   "outputs": [
    {
     "data": {
      "application/vnd.jupyter.widget-view+json": {
       "model_id": "d467656df8dc473e8c7bd52da5ef7806",
       "version_major": 2,
       "version_minor": 0
      },
      "text/plain": []
     },
     "metadata": {},
     "output_type": "display_data"
    },
    {
     "data": {
      "application/vnd.jupyter.widget-view+json": {
       "model_id": "dc5241f45f54468d8f683a7bf3046a98",
       "version_major": 2,
       "version_minor": 0
      },
      "text/plain": [
       "ThemeManager()"
      ]
     },
     "metadata": {},
     "output_type": "display_data"
    },
    {
     "data": {
      "application/vnd.jupyter.widget-view+json": {
       "model_id": "c44cb418d20b49deba3e2b2ed1f1f499",
       "version_major": 2,
       "version_minor": 0
      },
      "text/plain": [
       "NGLWidget(gui_style='ngl')"
      ]
     },
     "metadata": {},
     "output_type": "display_data"
    }
   ],
   "source": [
    "BSS.Notebook.View(\"input/ethane.pdb\").system()"
   ]
  },
  {
   "cell_type": "code",
   "execution_count": 15,
   "metadata": {},
   "outputs": [
    {
     "data": {
      "application/vnd.jupyter.widget-view+json": {
       "model_id": "ba54dd78ff564427b1cf78c03639ce1b",
       "version_major": 2,
       "version_minor": 0
      },
      "text/plain": [
       "NGLWidget(gui_style='ngl')"
      ]
     },
     "metadata": {},
     "output_type": "display_data"
    }
   ],
   "source": [
    "BSS.Notebook.View(\"input/methanol.pdb\").system()"
   ]
  },
  {
   "cell_type": "markdown",
   "metadata": {},
   "source": [
    "#### <span style=\"color:teal\">1.2 Paramaterising Molecules</span>\n",
    "<a id=\"param\"></a>\n",
    "\n",
    "Current we only have the coordinates information saved for the loaded molecules so the first thing we need to do is generated some forcefield parameters. In this case, we will use the Generalise Amber Force Field [(GAFF)](http://ambermd.org/antechamber/gaff.html)."
   ]
  },
  {
   "cell_type": "code",
   "execution_count": 35,
   "metadata": {},
   "outputs": [],
   "source": [
    "ethane = BSS.Parameters.gaff(ethane).getMolecule()\n",
    "methanol = BSS.Parameters.gaff(methanol).getMolecule()"
   ]
  },
  {
   "cell_type": "markdown",
   "metadata": {},
   "source": [
    "### <span style=\"color:teal\">2. Creating merged system</span>\n",
    "<a id=\"merge\"></a>\n",
    "Now ethane and methanol have all the required properties for running an MD simulation of them individually. But here we are interested in creating a morphed system, or `single topology` for running an alchemical free energy calculation. In this case, two of the ethane hydrogens will turn into dummy atoms and the second carbon and the 3rd hydrogen will turn into the `OH` group of the methanol.\n",
    "\n",
    " There are different topologies, and which is used, single or dual, depends largely on the software. For more information, check the <span style=\"color:pink\">further reading </span>: 7.1.1 (Topologies) ."
   ]
  },
  {
   "cell_type": "markdown",
   "metadata": {},
   "source": [
    "#### <span style=\"color:teal\">2.1 Maximum Common Substructure (MCS)</span>\n",
    "<a id=\"MCS\"></a>\n",
    "In order to automatically figure out which atoms are common between ethane and methanol we can use the `matchAtoms()` function of BioSimSpace. This will compute a Maxmimum Common Substructure (MCS) match and return a dictionary that maps the indices of atoms in the ethane molecule to the indices of the atoms in the ethanol to which they match. An example of what and MCS match might look like is shown here:\n",
    "\n",
    "![MCS](images/MCS.png)\n"
   ]
  },
  {
   "cell_type": "code",
   "execution_count": 17,
   "metadata": {},
   "outputs": [
    {
     "name": "stdout",
     "output_type": "stream",
     "text": [
      "{0: 0, 2: 1, 1: 2, 6: 5, 3: 4, 4: 3}\n"
     ]
    }
   ],
   "source": [
    "mapping = BSS.Align.matchAtoms(ethane, methanol)\n",
    "\n",
    "# Mapping is a dictionary mapping atom indices in ethane to those in methanol.\n",
    "print(mapping)"
   ]
  },
  {
   "cell_type": "markdown",
   "metadata": {},
   "source": [
    "Once we have the mapping we can align the molecules to each other using a root mean squared displacement (RMSD) metric and from the alignment we can then create a merged molecule which contains all of the `single topology` information needed for the alchemical perturbation.\n",
    "\n",
    "To visualise the mapping we can use:"
   ]
  },
  {
   "cell_type": "code",
   "execution_count": 18,
   "metadata": {},
   "outputs": [
    {
     "data": {
      "application/3dmoljs_load.v0": "<div id=\"3dmolviewer_1661954993247602\"  style=\"position: relative; width: 900px; height: 450px\">\n        <p id=\"3dmolwarning_1661954993247602\" style=\"background-color:#ffcccc;color:black\">You appear to be running in JupyterLab (or JavaScript failed to load for some other reason).  You need to install the 3dmol extension: <br>\n        <tt>jupyter labextension install jupyterlab_3dmol</tt></p>\n        </div>\n<script>\n\nvar loadScriptAsync = function(uri){\n  return new Promise((resolve, reject) => {\n    var tag = document.createElement('script');\n    tag.src = uri;\n    tag.async = true;\n    tag.onload = () => {\n      resolve();\n    };\n  var firstScriptTag = document.getElementsByTagName('script')[0];\n  firstScriptTag.parentNode.insertBefore(tag, firstScriptTag);\n});\n};\n\nif(typeof $3Dmolpromise === 'undefined') {\n$3Dmolpromise = null;\n  $3Dmolpromise = loadScriptAsync('https://cdn.jsdelivr.net/npm/3dmol@latest/build/3Dmol-min.min.js');\n}\n\nvar viewer_1661954993247602 = null;\nvar warn = document.getElementById(\"3dmolwarning_1661954993247602\");\nif(warn) {\n    warn.parentNode.removeChild(warn);\n}\n$3Dmolpromise.then(function() {\nvar viewergrid_1661954993247602 = null;\nviewergrid_1661954993247602 = $3Dmol.createViewerGrid($(\"#3dmolviewer_1661954993247602\"),{rows: 1, cols: 2, control_all: false},{backgroundColor:\"white\"});\nviewer_1661954993247602 = viewergrid_1661954993247602[0][0];\nviewergrid_1661954993247602[0][0].zoomTo();viewergrid_1661954993247602[0][1].zoomTo();\tviewergrid_1661954993247602[0][0].addModel(\"\\n     RDKit          3D\\n\\n  8  7  0  0  0  0  0  0  0  0999 V2000\\n   -0.7650    0.0000    0.0000 C   0  0  0  0  0  0  0  0  0  0  0  0\\n    0.7650    0.0000    0.0000 C   0  0  0  0  0  0  0  0  0  0  0  0\\n   -1.1280   -0.0210   -1.0270 H   0  0  0  0  0  0  0  0  0  0  0  0\\n   -1.1280    0.9000    0.4950 H   0  0  0  0  0  0  0  0  0  0  0  0\\n   -1.1280   -0.8790    0.5320 H   0  0  0  0  0  0  0  0  0  0  0  0\\n    1.1280    0.0210    1.0270 H   0  0  0  0  0  0  0  0  0  0  0  0\\n    1.1280   -0.9000   -0.4950 H   0  0  0  0  0  0  0  0  0  0  0  0\\n    1.1280    0.8790   -0.5320 H   0  0  0  0  0  0  0  0  0  0  0  0\\n  1  2  1  0\\n  1  3  1  0\\n  1  4  1  0\\n  1  5  1  0\\n  2  6  1  0\\n  2  7  1  0\\n  2  8  1  0\\nM  END\\n\",\"mol0\");\n\tviewergrid_1661954993247602[0][1].addModel(\"\\n     RDKit          3D\\n\\n  6  5  0  0  0  0  0  0  0  0999 V2000\\n    0.7370   -0.0150    0.0000 C   0  0  0  0  0  0  0  0  0  0  0  0\\n    1.0700   -0.5490    0.8900 H   0  0  0  0  0  0  0  0  0  0  0  0\\n   -0.6900    0.0680    0.0000 O   0  0  0  0  0  0  0  0  0  0  0  0\\n    1.0700   -0.5490   -0.8900 H   0  0  0  0  0  0  0  0  0  0  0  0\\n    1.1590    0.9900    0.0000 H   0  0  0  0  0  0  0  0  0  0  0  0\\n   -1.1330   -0.7920    0.0000 H   0  0  0  0  0  0  0  0  0  0  0  0\\n  1  2  1  0\\n  1  3  1  0\\n  1  4  1  0\\n  1  5  1  0\\n  3  6  1  0\\nM  END\\n\",\"mol1\");\n\tviewergrid_1661954993247602[0][0].setStyle({\"model\": 0},{\"stick\": {\"colorscheme\": \"grayCarbon\", \"linewidth\": 0.1}});\n\tviewergrid_1661954993247602[0][1].setStyle({\"model\": 0},{\"stick\": {\"colorscheme\": \"grayCarbon\", \"linewidth\": 0.1}});\n\tviewergrid_1661954993247602[0][0].addSphere({\"center\": {\"x\": -0.765, \"y\": 0.0, \"z\": 0.0}, \"radius\": 0.5, \"color\": \"green\", \"alpha\": 0.8});\n\tviewergrid_1661954993247602[0][0].addLabel(\"0 \\u2192 0\",{\"position\": {\"x\": -0.765, \"y\": 0.0, \"z\": 0.0}});\n\tviewergrid_1661954993247602[0][1].addSphere({\"center\": {\"x\": 0.737, \"y\": -0.015, \"z\": 0.0}, \"radius\": 0.5, \"color\": \"green\", \"alpha\": 0.8});\n\tviewergrid_1661954993247602[0][1].addLabel(\"0 \\u2192 0\",{\"position\": {\"x\": 0.737, \"y\": -0.015, \"z\": 0.0}});\n\tviewergrid_1661954993247602[0][0].addSphere({\"center\": {\"x\": -1.128, \"y\": -0.021, \"z\": -1.027}, \"radius\": 0.5, \"color\": \"green\", \"alpha\": 0.8});\n\tviewergrid_1661954993247602[0][0].addLabel(\"2 \\u2192 1\",{\"position\": {\"x\": -1.128, \"y\": -0.021, \"z\": -1.027}});\n\tviewergrid_1661954993247602[0][1].addSphere({\"center\": {\"x\": 1.07, \"y\": -0.549, \"z\": 0.89}, \"radius\": 0.5, \"color\": \"green\", \"alpha\": 0.8});\n\tviewergrid_1661954993247602[0][1].addLabel(\"1 \\u2192 2\",{\"position\": {\"x\": 1.07, \"y\": -0.549, \"z\": 0.89}});\n\tviewergrid_1661954993247602[0][0].addSphere({\"center\": {\"x\": 0.765, \"y\": 0.0, \"z\": 0.0}, \"radius\": 0.5, \"color\": \"green\", \"alpha\": 0.8});\n\tviewergrid_1661954993247602[0][0].addLabel(\"1 \\u2192 2\",{\"position\": {\"x\": 0.765, \"y\": 0.0, \"z\": 0.0}});\n\tviewergrid_1661954993247602[0][1].addSphere({\"center\": {\"x\": -0.69, \"y\": 0.068, \"z\": 0.0}, \"radius\": 0.5, \"color\": \"green\", \"alpha\": 0.8});\n\tviewergrid_1661954993247602[0][1].addLabel(\"2 \\u2192 1\",{\"position\": {\"x\": -0.69, \"y\": 0.068, \"z\": 0.0}});\n\tviewergrid_1661954993247602[0][0].addSphere({\"center\": {\"x\": 1.128, \"y\": -0.9, \"z\": -0.495}, \"radius\": 0.5, \"color\": \"green\", \"alpha\": 0.8});\n\tviewergrid_1661954993247602[0][0].addLabel(\"6 \\u2192 5\",{\"position\": {\"x\": 1.128, \"y\": -0.9, \"z\": -0.495}});\n\tviewergrid_1661954993247602[0][1].addSphere({\"center\": {\"x\": -1.133, \"y\": -0.792, \"z\": 0.0}, \"radius\": 0.5, \"color\": \"green\", \"alpha\": 0.8});\n\tviewergrid_1661954993247602[0][1].addLabel(\"5 \\u2192 6\",{\"position\": {\"x\": -1.133, \"y\": -0.792, \"z\": 0.0}});\n\tviewergrid_1661954993247602[0][0].addSphere({\"center\": {\"x\": -1.128, \"y\": 0.9, \"z\": 0.495}, \"radius\": 0.5, \"color\": \"green\", \"alpha\": 0.8});\n\tviewergrid_1661954993247602[0][0].addLabel(\"3 \\u2192 4\",{\"position\": {\"x\": -1.128, \"y\": 0.9, \"z\": 0.495}});\n\tviewergrid_1661954993247602[0][1].addSphere({\"center\": {\"x\": 1.159, \"y\": 0.99, \"z\": 0.0}, \"radius\": 0.5, \"color\": \"green\", \"alpha\": 0.8});\n\tviewergrid_1661954993247602[0][1].addLabel(\"4 \\u2192 3\",{\"position\": {\"x\": 1.159, \"y\": 0.99, \"z\": 0.0}});\n\tviewergrid_1661954993247602[0][0].addSphere({\"center\": {\"x\": -1.128, \"y\": -0.879, \"z\": 0.532}, \"radius\": 0.5, \"color\": \"green\", \"alpha\": 0.8});\n\tviewergrid_1661954993247602[0][0].addLabel(\"4 \\u2192 3\",{\"position\": {\"x\": -1.128, \"y\": -0.879, \"z\": 0.532}});\n\tviewergrid_1661954993247602[0][1].addSphere({\"center\": {\"x\": 1.07, \"y\": -0.549, \"z\": -0.89}, \"radius\": 0.5, \"color\": \"green\", \"alpha\": 0.8});\n\tviewergrid_1661954993247602[0][1].addLabel(\"3 \\u2192 4\",{\"position\": {\"x\": 1.07, \"y\": -0.549, \"z\": -0.89}});\n\tviewergrid_1661954993247602[0][0].setBackgroundColor(\"white\");\n\tviewergrid_1661954993247602[0][1].setBackgroundColor(\"white\");\n\tviewergrid_1661954993247602[0][0].zoomTo();\n\tviewergrid_1661954993247602[0][1].zoomTo();\nviewergrid_1661954993247602[0][1].render();\nviewergrid_1661954993247602[0][0].render();\n});\n</script>",
      "text/html": [
       "<div id=\"3dmolviewer_1661954993247602\"  style=\"position: relative; width: 900px; height: 450px\">\n",
       "        <p id=\"3dmolwarning_1661954993247602\" style=\"background-color:#ffcccc;color:black\">You appear to be running in JupyterLab (or JavaScript failed to load for some other reason).  You need to install the 3dmol extension: <br>\n",
       "        <tt>jupyter labextension install jupyterlab_3dmol</tt></p>\n",
       "        </div>\n",
       "<script>\n",
       "\n",
       "var loadScriptAsync = function(uri){\n",
       "  return new Promise((resolve, reject) => {\n",
       "    var tag = document.createElement('script');\n",
       "    tag.src = uri;\n",
       "    tag.async = true;\n",
       "    tag.onload = () => {\n",
       "      resolve();\n",
       "    };\n",
       "  var firstScriptTag = document.getElementsByTagName('script')[0];\n",
       "  firstScriptTag.parentNode.insertBefore(tag, firstScriptTag);\n",
       "});\n",
       "};\n",
       "\n",
       "if(typeof $3Dmolpromise === 'undefined') {\n",
       "$3Dmolpromise = null;\n",
       "  $3Dmolpromise = loadScriptAsync('https://cdn.jsdelivr.net/npm/3dmol@latest/build/3Dmol-min.min.js');\n",
       "}\n",
       "\n",
       "var viewer_1661954993247602 = null;\n",
       "var warn = document.getElementById(\"3dmolwarning_1661954993247602\");\n",
       "if(warn) {\n",
       "    warn.parentNode.removeChild(warn);\n",
       "}\n",
       "$3Dmolpromise.then(function() {\n",
       "var viewergrid_1661954993247602 = null;\n",
       "viewergrid_1661954993247602 = $3Dmol.createViewerGrid($(\"#3dmolviewer_1661954993247602\"),{rows: 1, cols: 2, control_all: false},{backgroundColor:\"white\"});\n",
       "viewer_1661954993247602 = viewergrid_1661954993247602[0][0];\n",
       "viewergrid_1661954993247602[0][0].zoomTo();viewergrid_1661954993247602[0][1].zoomTo();\tviewergrid_1661954993247602[0][0].addModel(\"\\n     RDKit          3D\\n\\n  8  7  0  0  0  0  0  0  0  0999 V2000\\n   -0.7650    0.0000    0.0000 C   0  0  0  0  0  0  0  0  0  0  0  0\\n    0.7650    0.0000    0.0000 C   0  0  0  0  0  0  0  0  0  0  0  0\\n   -1.1280   -0.0210   -1.0270 H   0  0  0  0  0  0  0  0  0  0  0  0\\n   -1.1280    0.9000    0.4950 H   0  0  0  0  0  0  0  0  0  0  0  0\\n   -1.1280   -0.8790    0.5320 H   0  0  0  0  0  0  0  0  0  0  0  0\\n    1.1280    0.0210    1.0270 H   0  0  0  0  0  0  0  0  0  0  0  0\\n    1.1280   -0.9000   -0.4950 H   0  0  0  0  0  0  0  0  0  0  0  0\\n    1.1280    0.8790   -0.5320 H   0  0  0  0  0  0  0  0  0  0  0  0\\n  1  2  1  0\\n  1  3  1  0\\n  1  4  1  0\\n  1  5  1  0\\n  2  6  1  0\\n  2  7  1  0\\n  2  8  1  0\\nM  END\\n\",\"mol0\");\n",
       "\tviewergrid_1661954993247602[0][1].addModel(\"\\n     RDKit          3D\\n\\n  6  5  0  0  0  0  0  0  0  0999 V2000\\n    0.7370   -0.0150    0.0000 C   0  0  0  0  0  0  0  0  0  0  0  0\\n    1.0700   -0.5490    0.8900 H   0  0  0  0  0  0  0  0  0  0  0  0\\n   -0.6900    0.0680    0.0000 O   0  0  0  0  0  0  0  0  0  0  0  0\\n    1.0700   -0.5490   -0.8900 H   0  0  0  0  0  0  0  0  0  0  0  0\\n    1.1590    0.9900    0.0000 H   0  0  0  0  0  0  0  0  0  0  0  0\\n   -1.1330   -0.7920    0.0000 H   0  0  0  0  0  0  0  0  0  0  0  0\\n  1  2  1  0\\n  1  3  1  0\\n  1  4  1  0\\n  1  5  1  0\\n  3  6  1  0\\nM  END\\n\",\"mol1\");\n",
       "\tviewergrid_1661954993247602[0][0].setStyle({\"model\": 0},{\"stick\": {\"colorscheme\": \"grayCarbon\", \"linewidth\": 0.1}});\n",
       "\tviewergrid_1661954993247602[0][1].setStyle({\"model\": 0},{\"stick\": {\"colorscheme\": \"grayCarbon\", \"linewidth\": 0.1}});\n",
       "\tviewergrid_1661954993247602[0][0].addSphere({\"center\": {\"x\": -0.765, \"y\": 0.0, \"z\": 0.0}, \"radius\": 0.5, \"color\": \"green\", \"alpha\": 0.8});\n",
       "\tviewergrid_1661954993247602[0][0].addLabel(\"0 \\u2192 0\",{\"position\": {\"x\": -0.765, \"y\": 0.0, \"z\": 0.0}});\n",
       "\tviewergrid_1661954993247602[0][1].addSphere({\"center\": {\"x\": 0.737, \"y\": -0.015, \"z\": 0.0}, \"radius\": 0.5, \"color\": \"green\", \"alpha\": 0.8});\n",
       "\tviewergrid_1661954993247602[0][1].addLabel(\"0 \\u2192 0\",{\"position\": {\"x\": 0.737, \"y\": -0.015, \"z\": 0.0}});\n",
       "\tviewergrid_1661954993247602[0][0].addSphere({\"center\": {\"x\": -1.128, \"y\": -0.021, \"z\": -1.027}, \"radius\": 0.5, \"color\": \"green\", \"alpha\": 0.8});\n",
       "\tviewergrid_1661954993247602[0][0].addLabel(\"2 \\u2192 1\",{\"position\": {\"x\": -1.128, \"y\": -0.021, \"z\": -1.027}});\n",
       "\tviewergrid_1661954993247602[0][1].addSphere({\"center\": {\"x\": 1.07, \"y\": -0.549, \"z\": 0.89}, \"radius\": 0.5, \"color\": \"green\", \"alpha\": 0.8});\n",
       "\tviewergrid_1661954993247602[0][1].addLabel(\"1 \\u2192 2\",{\"position\": {\"x\": 1.07, \"y\": -0.549, \"z\": 0.89}});\n",
       "\tviewergrid_1661954993247602[0][0].addSphere({\"center\": {\"x\": 0.765, \"y\": 0.0, \"z\": 0.0}, \"radius\": 0.5, \"color\": \"green\", \"alpha\": 0.8});\n",
       "\tviewergrid_1661954993247602[0][0].addLabel(\"1 \\u2192 2\",{\"position\": {\"x\": 0.765, \"y\": 0.0, \"z\": 0.0}});\n",
       "\tviewergrid_1661954993247602[0][1].addSphere({\"center\": {\"x\": -0.69, \"y\": 0.068, \"z\": 0.0}, \"radius\": 0.5, \"color\": \"green\", \"alpha\": 0.8});\n",
       "\tviewergrid_1661954993247602[0][1].addLabel(\"2 \\u2192 1\",{\"position\": {\"x\": -0.69, \"y\": 0.068, \"z\": 0.0}});\n",
       "\tviewergrid_1661954993247602[0][0].addSphere({\"center\": {\"x\": 1.128, \"y\": -0.9, \"z\": -0.495}, \"radius\": 0.5, \"color\": \"green\", \"alpha\": 0.8});\n",
       "\tviewergrid_1661954993247602[0][0].addLabel(\"6 \\u2192 5\",{\"position\": {\"x\": 1.128, \"y\": -0.9, \"z\": -0.495}});\n",
       "\tviewergrid_1661954993247602[0][1].addSphere({\"center\": {\"x\": -1.133, \"y\": -0.792, \"z\": 0.0}, \"radius\": 0.5, \"color\": \"green\", \"alpha\": 0.8});\n",
       "\tviewergrid_1661954993247602[0][1].addLabel(\"5 \\u2192 6\",{\"position\": {\"x\": -1.133, \"y\": -0.792, \"z\": 0.0}});\n",
       "\tviewergrid_1661954993247602[0][0].addSphere({\"center\": {\"x\": -1.128, \"y\": 0.9, \"z\": 0.495}, \"radius\": 0.5, \"color\": \"green\", \"alpha\": 0.8});\n",
       "\tviewergrid_1661954993247602[0][0].addLabel(\"3 \\u2192 4\",{\"position\": {\"x\": -1.128, \"y\": 0.9, \"z\": 0.495}});\n",
       "\tviewergrid_1661954993247602[0][1].addSphere({\"center\": {\"x\": 1.159, \"y\": 0.99, \"z\": 0.0}, \"radius\": 0.5, \"color\": \"green\", \"alpha\": 0.8});\n",
       "\tviewergrid_1661954993247602[0][1].addLabel(\"4 \\u2192 3\",{\"position\": {\"x\": 1.159, \"y\": 0.99, \"z\": 0.0}});\n",
       "\tviewergrid_1661954993247602[0][0].addSphere({\"center\": {\"x\": -1.128, \"y\": -0.879, \"z\": 0.532}, \"radius\": 0.5, \"color\": \"green\", \"alpha\": 0.8});\n",
       "\tviewergrid_1661954993247602[0][0].addLabel(\"4 \\u2192 3\",{\"position\": {\"x\": -1.128, \"y\": -0.879, \"z\": 0.532}});\n",
       "\tviewergrid_1661954993247602[0][1].addSphere({\"center\": {\"x\": 1.07, \"y\": -0.549, \"z\": -0.89}, \"radius\": 0.5, \"color\": \"green\", \"alpha\": 0.8});\n",
       "\tviewergrid_1661954993247602[0][1].addLabel(\"3 \\u2192 4\",{\"position\": {\"x\": 1.07, \"y\": -0.549, \"z\": -0.89}});\n",
       "\tviewergrid_1661954993247602[0][0].setBackgroundColor(\"white\");\n",
       "\tviewergrid_1661954993247602[0][1].setBackgroundColor(\"white\");\n",
       "\tviewergrid_1661954993247602[0][0].zoomTo();\n",
       "\tviewergrid_1661954993247602[0][1].zoomTo();\n",
       "viewergrid_1661954993247602[0][1].render();\n",
       "viewergrid_1661954993247602[0][0].render();\n",
       "});\n",
       "</script>"
      ]
     },
     "metadata": {},
     "output_type": "display_data"
    },
    {
     "data": {
      "text/plain": [
       "<py3Dmol.view at 0x7f4881ff28e0>"
      ]
     },
     "execution_count": 18,
     "metadata": {},
     "output_type": "execute_result"
    }
   ],
   "source": [
    "BSS.Align.viewMapping(ethane, methanol, mapping)"
   ]
  },
  {
   "cell_type": "markdown",
   "metadata": {},
   "source": [
    "This shows ethane, with the atoms that map to those in methanol highlighted in green. The numbers next to the atoms are their indices within the molecule (and mapping dictionary).To instead use methanol as the reference, we can swap the order of the molecules that are passed to the function and invert the mapping dictionary:"
   ]
  },
  {
   "cell_type": "code",
   "execution_count": 19,
   "metadata": {},
   "outputs": [
    {
     "data": {
      "application/3dmoljs_load.v0": "<div id=\"3dmolviewer_16619549945647464\"  style=\"position: relative; width: 900px; height: 450px\">\n        <p id=\"3dmolwarning_16619549945647464\" style=\"background-color:#ffcccc;color:black\">You appear to be running in JupyterLab (or JavaScript failed to load for some other reason).  You need to install the 3dmol extension: <br>\n        <tt>jupyter labextension install jupyterlab_3dmol</tt></p>\n        </div>\n<script>\n\nvar loadScriptAsync = function(uri){\n  return new Promise((resolve, reject) => {\n    var tag = document.createElement('script');\n    tag.src = uri;\n    tag.async = true;\n    tag.onload = () => {\n      resolve();\n    };\n  var firstScriptTag = document.getElementsByTagName('script')[0];\n  firstScriptTag.parentNode.insertBefore(tag, firstScriptTag);\n});\n};\n\nif(typeof $3Dmolpromise === 'undefined') {\n$3Dmolpromise = null;\n  $3Dmolpromise = loadScriptAsync('https://cdn.jsdelivr.net/npm/3dmol@latest/build/3Dmol-min.min.js');\n}\n\nvar viewer_16619549945647464 = null;\nvar warn = document.getElementById(\"3dmolwarning_16619549945647464\");\nif(warn) {\n    warn.parentNode.removeChild(warn);\n}\n$3Dmolpromise.then(function() {\nvar viewergrid_16619549945647464 = null;\nviewergrid_16619549945647464 = $3Dmol.createViewerGrid($(\"#3dmolviewer_16619549945647464\"),{rows: 1, cols: 2, control_all: false},{backgroundColor:\"white\"});\nviewer_16619549945647464 = viewergrid_16619549945647464[0][0];\nviewergrid_16619549945647464[0][0].zoomTo();viewergrid_16619549945647464[0][1].zoomTo();\tviewergrid_16619549945647464[0][0].addModel(\"\\n     RDKit          3D\\n\\n  6  5  0  0  0  0  0  0  0  0999 V2000\\n    0.7370   -0.0150    0.0000 C   0  0  0  0  0  0  0  0  0  0  0  0\\n    1.0700   -0.5490    0.8900 H   0  0  0  0  0  0  0  0  0  0  0  0\\n   -0.6900    0.0680    0.0000 O   0  0  0  0  0  0  0  0  0  0  0  0\\n    1.0700   -0.5490   -0.8900 H   0  0  0  0  0  0  0  0  0  0  0  0\\n    1.1590    0.9900    0.0000 H   0  0  0  0  0  0  0  0  0  0  0  0\\n   -1.1330   -0.7920    0.0000 H   0  0  0  0  0  0  0  0  0  0  0  0\\n  1  2  1  0\\n  1  3  1  0\\n  1  4  1  0\\n  1  5  1  0\\n  3  6  1  0\\nM  END\\n\",\"mol0\");\n\tviewergrid_16619549945647464[0][1].addModel(\"\\n     RDKit          3D\\n\\n  8  7  0  0  0  0  0  0  0  0999 V2000\\n   -0.7650    0.0000    0.0000 C   0  0  0  0  0  0  0  0  0  0  0  0\\n    0.7650    0.0000    0.0000 C   0  0  0  0  0  0  0  0  0  0  0  0\\n   -1.1280   -0.0210   -1.0270 H   0  0  0  0  0  0  0  0  0  0  0  0\\n   -1.1280    0.9000    0.4950 H   0  0  0  0  0  0  0  0  0  0  0  0\\n   -1.1280   -0.8790    0.5320 H   0  0  0  0  0  0  0  0  0  0  0  0\\n    1.1280    0.0210    1.0270 H   0  0  0  0  0  0  0  0  0  0  0  0\\n    1.1280   -0.9000   -0.4950 H   0  0  0  0  0  0  0  0  0  0  0  0\\n    1.1280    0.8790   -0.5320 H   0  0  0  0  0  0  0  0  0  0  0  0\\n  1  2  1  0\\n  1  3  1  0\\n  1  4  1  0\\n  1  5  1  0\\n  2  6  1  0\\n  2  7  1  0\\n  2  8  1  0\\nM  END\\n\",\"mol1\");\n\tviewergrid_16619549945647464[0][0].setStyle({\"model\": 0},{\"stick\": {\"colorscheme\": \"grayCarbon\", \"linewidth\": 0.1}});\n\tviewergrid_16619549945647464[0][1].setStyle({\"model\": 0},{\"stick\": {\"colorscheme\": \"grayCarbon\", \"linewidth\": 0.1}});\n\tviewergrid_16619549945647464[0][0].addSphere({\"center\": {\"x\": 0.737, \"y\": -0.015, \"z\": 0.0}, \"radius\": 0.5, \"color\": \"green\", \"alpha\": 0.8});\n\tviewergrid_16619549945647464[0][0].addLabel(\"0 \\u2192 0\",{\"position\": {\"x\": 0.737, \"y\": -0.015, \"z\": 0.0}});\n\tviewergrid_16619549945647464[0][1].addSphere({\"center\": {\"x\": -0.765, \"y\": 0.0, \"z\": 0.0}, \"radius\": 0.5, \"color\": \"green\", \"alpha\": 0.8});\n\tviewergrid_16619549945647464[0][1].addLabel(\"0 \\u2192 0\",{\"position\": {\"x\": -0.765, \"y\": 0.0, \"z\": 0.0}});\n\tviewergrid_16619549945647464[0][0].addSphere({\"center\": {\"x\": 1.07, \"y\": -0.549, \"z\": 0.89}, \"radius\": 0.5, \"color\": \"green\", \"alpha\": 0.8});\n\tviewergrid_16619549945647464[0][0].addLabel(\"1 \\u2192 2\",{\"position\": {\"x\": 1.07, \"y\": -0.549, \"z\": 0.89}});\n\tviewergrid_16619549945647464[0][1].addSphere({\"center\": {\"x\": -1.128, \"y\": -0.021, \"z\": -1.027}, \"radius\": 0.5, \"color\": \"green\", \"alpha\": 0.8});\n\tviewergrid_16619549945647464[0][1].addLabel(\"2 \\u2192 1\",{\"position\": {\"x\": -1.128, \"y\": -0.021, \"z\": -1.027}});\n\tviewergrid_16619549945647464[0][0].addSphere({\"center\": {\"x\": -0.69, \"y\": 0.068, \"z\": 0.0}, \"radius\": 0.5, \"color\": \"green\", \"alpha\": 0.8});\n\tviewergrid_16619549945647464[0][0].addLabel(\"2 \\u2192 1\",{\"position\": {\"x\": -0.69, \"y\": 0.068, \"z\": 0.0}});\n\tviewergrid_16619549945647464[0][1].addSphere({\"center\": {\"x\": 0.765, \"y\": 0.0, \"z\": 0.0}, \"radius\": 0.5, \"color\": \"green\", \"alpha\": 0.8});\n\tviewergrid_16619549945647464[0][1].addLabel(\"1 \\u2192 2\",{\"position\": {\"x\": 0.765, \"y\": 0.0, \"z\": 0.0}});\n\tviewergrid_16619549945647464[0][0].addSphere({\"center\": {\"x\": -1.133, \"y\": -0.792, \"z\": 0.0}, \"radius\": 0.5, \"color\": \"green\", \"alpha\": 0.8});\n\tviewergrid_16619549945647464[0][0].addLabel(\"5 \\u2192 6\",{\"position\": {\"x\": -1.133, \"y\": -0.792, \"z\": 0.0}});\n\tviewergrid_16619549945647464[0][1].addSphere({\"center\": {\"x\": 1.128, \"y\": -0.9, \"z\": -0.495}, \"radius\": 0.5, \"color\": \"green\", \"alpha\": 0.8});\n\tviewergrid_16619549945647464[0][1].addLabel(\"6 \\u2192 5\",{\"position\": {\"x\": 1.128, \"y\": -0.9, \"z\": -0.495}});\n\tviewergrid_16619549945647464[0][0].addSphere({\"center\": {\"x\": 1.159, \"y\": 0.99, \"z\": 0.0}, \"radius\": 0.5, \"color\": \"green\", \"alpha\": 0.8});\n\tviewergrid_16619549945647464[0][0].addLabel(\"4 \\u2192 3\",{\"position\": {\"x\": 1.159, \"y\": 0.99, \"z\": 0.0}});\n\tviewergrid_16619549945647464[0][1].addSphere({\"center\": {\"x\": -1.128, \"y\": 0.9, \"z\": 0.495}, \"radius\": 0.5, \"color\": \"green\", \"alpha\": 0.8});\n\tviewergrid_16619549945647464[0][1].addLabel(\"3 \\u2192 4\",{\"position\": {\"x\": -1.128, \"y\": 0.9, \"z\": 0.495}});\n\tviewergrid_16619549945647464[0][0].addSphere({\"center\": {\"x\": 1.07, \"y\": -0.549, \"z\": -0.89}, \"radius\": 0.5, \"color\": \"green\", \"alpha\": 0.8});\n\tviewergrid_16619549945647464[0][0].addLabel(\"3 \\u2192 4\",{\"position\": {\"x\": 1.07, \"y\": -0.549, \"z\": -0.89}});\n\tviewergrid_16619549945647464[0][1].addSphere({\"center\": {\"x\": -1.128, \"y\": -0.879, \"z\": 0.532}, \"radius\": 0.5, \"color\": \"green\", \"alpha\": 0.8});\n\tviewergrid_16619549945647464[0][1].addLabel(\"4 \\u2192 3\",{\"position\": {\"x\": -1.128, \"y\": -0.879, \"z\": 0.532}});\n\tviewergrid_16619549945647464[0][0].setBackgroundColor(\"white\");\n\tviewergrid_16619549945647464[0][1].setBackgroundColor(\"white\");\n\tviewergrid_16619549945647464[0][0].zoomTo();\n\tviewergrid_16619549945647464[0][1].zoomTo();\nviewergrid_16619549945647464[0][1].render();\nviewergrid_16619549945647464[0][0].render();\n});\n</script>",
      "text/html": [
       "<div id=\"3dmolviewer_16619549945647464\"  style=\"position: relative; width: 900px; height: 450px\">\n",
       "        <p id=\"3dmolwarning_16619549945647464\" style=\"background-color:#ffcccc;color:black\">You appear to be running in JupyterLab (or JavaScript failed to load for some other reason).  You need to install the 3dmol extension: <br>\n",
       "        <tt>jupyter labextension install jupyterlab_3dmol</tt></p>\n",
       "        </div>\n",
       "<script>\n",
       "\n",
       "var loadScriptAsync = function(uri){\n",
       "  return new Promise((resolve, reject) => {\n",
       "    var tag = document.createElement('script');\n",
       "    tag.src = uri;\n",
       "    tag.async = true;\n",
       "    tag.onload = () => {\n",
       "      resolve();\n",
       "    };\n",
       "  var firstScriptTag = document.getElementsByTagName('script')[0];\n",
       "  firstScriptTag.parentNode.insertBefore(tag, firstScriptTag);\n",
       "});\n",
       "};\n",
       "\n",
       "if(typeof $3Dmolpromise === 'undefined') {\n",
       "$3Dmolpromise = null;\n",
       "  $3Dmolpromise = loadScriptAsync('https://cdn.jsdelivr.net/npm/3dmol@latest/build/3Dmol-min.min.js');\n",
       "}\n",
       "\n",
       "var viewer_16619549945647464 = null;\n",
       "var warn = document.getElementById(\"3dmolwarning_16619549945647464\");\n",
       "if(warn) {\n",
       "    warn.parentNode.removeChild(warn);\n",
       "}\n",
       "$3Dmolpromise.then(function() {\n",
       "var viewergrid_16619549945647464 = null;\n",
       "viewergrid_16619549945647464 = $3Dmol.createViewerGrid($(\"#3dmolviewer_16619549945647464\"),{rows: 1, cols: 2, control_all: false},{backgroundColor:\"white\"});\n",
       "viewer_16619549945647464 = viewergrid_16619549945647464[0][0];\n",
       "viewergrid_16619549945647464[0][0].zoomTo();viewergrid_16619549945647464[0][1].zoomTo();\tviewergrid_16619549945647464[0][0].addModel(\"\\n     RDKit          3D\\n\\n  6  5  0  0  0  0  0  0  0  0999 V2000\\n    0.7370   -0.0150    0.0000 C   0  0  0  0  0  0  0  0  0  0  0  0\\n    1.0700   -0.5490    0.8900 H   0  0  0  0  0  0  0  0  0  0  0  0\\n   -0.6900    0.0680    0.0000 O   0  0  0  0  0  0  0  0  0  0  0  0\\n    1.0700   -0.5490   -0.8900 H   0  0  0  0  0  0  0  0  0  0  0  0\\n    1.1590    0.9900    0.0000 H   0  0  0  0  0  0  0  0  0  0  0  0\\n   -1.1330   -0.7920    0.0000 H   0  0  0  0  0  0  0  0  0  0  0  0\\n  1  2  1  0\\n  1  3  1  0\\n  1  4  1  0\\n  1  5  1  0\\n  3  6  1  0\\nM  END\\n\",\"mol0\");\n",
       "\tviewergrid_16619549945647464[0][1].addModel(\"\\n     RDKit          3D\\n\\n  8  7  0  0  0  0  0  0  0  0999 V2000\\n   -0.7650    0.0000    0.0000 C   0  0  0  0  0  0  0  0  0  0  0  0\\n    0.7650    0.0000    0.0000 C   0  0  0  0  0  0  0  0  0  0  0  0\\n   -1.1280   -0.0210   -1.0270 H   0  0  0  0  0  0  0  0  0  0  0  0\\n   -1.1280    0.9000    0.4950 H   0  0  0  0  0  0  0  0  0  0  0  0\\n   -1.1280   -0.8790    0.5320 H   0  0  0  0  0  0  0  0  0  0  0  0\\n    1.1280    0.0210    1.0270 H   0  0  0  0  0  0  0  0  0  0  0  0\\n    1.1280   -0.9000   -0.4950 H   0  0  0  0  0  0  0  0  0  0  0  0\\n    1.1280    0.8790   -0.5320 H   0  0  0  0  0  0  0  0  0  0  0  0\\n  1  2  1  0\\n  1  3  1  0\\n  1  4  1  0\\n  1  5  1  0\\n  2  6  1  0\\n  2  7  1  0\\n  2  8  1  0\\nM  END\\n\",\"mol1\");\n",
       "\tviewergrid_16619549945647464[0][0].setStyle({\"model\": 0},{\"stick\": {\"colorscheme\": \"grayCarbon\", \"linewidth\": 0.1}});\n",
       "\tviewergrid_16619549945647464[0][1].setStyle({\"model\": 0},{\"stick\": {\"colorscheme\": \"grayCarbon\", \"linewidth\": 0.1}});\n",
       "\tviewergrid_16619549945647464[0][0].addSphere({\"center\": {\"x\": 0.737, \"y\": -0.015, \"z\": 0.0}, \"radius\": 0.5, \"color\": \"green\", \"alpha\": 0.8});\n",
       "\tviewergrid_16619549945647464[0][0].addLabel(\"0 \\u2192 0\",{\"position\": {\"x\": 0.737, \"y\": -0.015, \"z\": 0.0}});\n",
       "\tviewergrid_16619549945647464[0][1].addSphere({\"center\": {\"x\": -0.765, \"y\": 0.0, \"z\": 0.0}, \"radius\": 0.5, \"color\": \"green\", \"alpha\": 0.8});\n",
       "\tviewergrid_16619549945647464[0][1].addLabel(\"0 \\u2192 0\",{\"position\": {\"x\": -0.765, \"y\": 0.0, \"z\": 0.0}});\n",
       "\tviewergrid_16619549945647464[0][0].addSphere({\"center\": {\"x\": 1.07, \"y\": -0.549, \"z\": 0.89}, \"radius\": 0.5, \"color\": \"green\", \"alpha\": 0.8});\n",
       "\tviewergrid_16619549945647464[0][0].addLabel(\"1 \\u2192 2\",{\"position\": {\"x\": 1.07, \"y\": -0.549, \"z\": 0.89}});\n",
       "\tviewergrid_16619549945647464[0][1].addSphere({\"center\": {\"x\": -1.128, \"y\": -0.021, \"z\": -1.027}, \"radius\": 0.5, \"color\": \"green\", \"alpha\": 0.8});\n",
       "\tviewergrid_16619549945647464[0][1].addLabel(\"2 \\u2192 1\",{\"position\": {\"x\": -1.128, \"y\": -0.021, \"z\": -1.027}});\n",
       "\tviewergrid_16619549945647464[0][0].addSphere({\"center\": {\"x\": -0.69, \"y\": 0.068, \"z\": 0.0}, \"radius\": 0.5, \"color\": \"green\", \"alpha\": 0.8});\n",
       "\tviewergrid_16619549945647464[0][0].addLabel(\"2 \\u2192 1\",{\"position\": {\"x\": -0.69, \"y\": 0.068, \"z\": 0.0}});\n",
       "\tviewergrid_16619549945647464[0][1].addSphere({\"center\": {\"x\": 0.765, \"y\": 0.0, \"z\": 0.0}, \"radius\": 0.5, \"color\": \"green\", \"alpha\": 0.8});\n",
       "\tviewergrid_16619549945647464[0][1].addLabel(\"1 \\u2192 2\",{\"position\": {\"x\": 0.765, \"y\": 0.0, \"z\": 0.0}});\n",
       "\tviewergrid_16619549945647464[0][0].addSphere({\"center\": {\"x\": -1.133, \"y\": -0.792, \"z\": 0.0}, \"radius\": 0.5, \"color\": \"green\", \"alpha\": 0.8});\n",
       "\tviewergrid_16619549945647464[0][0].addLabel(\"5 \\u2192 6\",{\"position\": {\"x\": -1.133, \"y\": -0.792, \"z\": 0.0}});\n",
       "\tviewergrid_16619549945647464[0][1].addSphere({\"center\": {\"x\": 1.128, \"y\": -0.9, \"z\": -0.495}, \"radius\": 0.5, \"color\": \"green\", \"alpha\": 0.8});\n",
       "\tviewergrid_16619549945647464[0][1].addLabel(\"6 \\u2192 5\",{\"position\": {\"x\": 1.128, \"y\": -0.9, \"z\": -0.495}});\n",
       "\tviewergrid_16619549945647464[0][0].addSphere({\"center\": {\"x\": 1.159, \"y\": 0.99, \"z\": 0.0}, \"radius\": 0.5, \"color\": \"green\", \"alpha\": 0.8});\n",
       "\tviewergrid_16619549945647464[0][0].addLabel(\"4 \\u2192 3\",{\"position\": {\"x\": 1.159, \"y\": 0.99, \"z\": 0.0}});\n",
       "\tviewergrid_16619549945647464[0][1].addSphere({\"center\": {\"x\": -1.128, \"y\": 0.9, \"z\": 0.495}, \"radius\": 0.5, \"color\": \"green\", \"alpha\": 0.8});\n",
       "\tviewergrid_16619549945647464[0][1].addLabel(\"3 \\u2192 4\",{\"position\": {\"x\": -1.128, \"y\": 0.9, \"z\": 0.495}});\n",
       "\tviewergrid_16619549945647464[0][0].addSphere({\"center\": {\"x\": 1.07, \"y\": -0.549, \"z\": -0.89}, \"radius\": 0.5, \"color\": \"green\", \"alpha\": 0.8});\n",
       "\tviewergrid_16619549945647464[0][0].addLabel(\"3 \\u2192 4\",{\"position\": {\"x\": 1.07, \"y\": -0.549, \"z\": -0.89}});\n",
       "\tviewergrid_16619549945647464[0][1].addSphere({\"center\": {\"x\": -1.128, \"y\": -0.879, \"z\": 0.532}, \"radius\": 0.5, \"color\": \"green\", \"alpha\": 0.8});\n",
       "\tviewergrid_16619549945647464[0][1].addLabel(\"4 \\u2192 3\",{\"position\": {\"x\": -1.128, \"y\": -0.879, \"z\": 0.532}});\n",
       "\tviewergrid_16619549945647464[0][0].setBackgroundColor(\"white\");\n",
       "\tviewergrid_16619549945647464[0][1].setBackgroundColor(\"white\");\n",
       "\tviewergrid_16619549945647464[0][0].zoomTo();\n",
       "\tviewergrid_16619549945647464[0][1].zoomTo();\n",
       "viewergrid_16619549945647464[0][1].render();\n",
       "viewergrid_16619549945647464[0][0].render();\n",
       "});\n",
       "</script>"
      ]
     },
     "metadata": {},
     "output_type": "display_data"
    },
    {
     "data": {
      "text/plain": [
       "<py3Dmol.view at 0x7f49a831f1f0>"
      ]
     },
     "execution_count": 19,
     "metadata": {},
     "output_type": "execute_result"
    }
   ],
   "source": [
    "# get the inverse mapping\n",
    "inv_mapping = {v: k for k, v in mapping.items()}\n",
    "# view\n",
    "BSS.Align.viewMapping(methanol, ethane, inv_mapping)"
   ]
  },
  {
   "cell_type": "markdown",
   "metadata": {},
   "source": [
    "#### <span style=\"color:teal\">2.2 Creating a _merged_ molecule</span>\n",
    "<a id=\"merged\"></a>\n",
    "\n",
    "In order to perform an alchemical simulation we need to create a _merged_ molecule that combines that properties of the two molecules. To do so we first need to align one molecule to the other, based on the mapping. This can be achieved using the `rsmdAlign` function.    \n",
    "As the mapping matches the atoms for ligand 0 (ethane) to ligand 1 (methanol), and we want to align ligand 1 to ligand 0 (so align the methanol to the ethane), we need to use the inverse mapping for this:"
   ]
  },
  {
   "cell_type": "code",
   "execution_count": 20,
   "metadata": {},
   "outputs": [],
   "source": [
    "# Align methanol to ethane based on the inverse mapping.\n",
    "methanol_aligned = BSS.Align.rmsdAlign(methanol, ethane, inv_mapping)"
   ]
  },
  {
   "cell_type": "markdown",
   "metadata": {},
   "source": [
    "We can now _merge_ the two molecules. This will create a composite molecule containing all of the molecular properties at both end states. If the molecules are a different size, then the smaller will contain dummy atoms to represent the atoms that will _appear_ during the perturbation. In this case, the merged methanol end state will contain two dummy atoms corresponding to the extra hydrogen atoms in the ethane molecule."
   ]
  },
  {
   "cell_type": "code",
   "execution_count": 21,
   "metadata": {},
   "outputs": [],
   "source": [
    "# Merge the ethane and methanol based on the mapping.\n",
    "merged = BSS.Align.merge(ethane, methanol_aligned, mapping)"
   ]
  },
  {
   "cell_type": "markdown",
   "metadata": {},
   "source": [
    "#### <span style=\"color:teal\">2.3 Solvation</span>\n",
    "<a id=\"solv\"></a>\n",
    "\n",
    "Before we can run a free energy simulation we will have to solvate the system. In this case, rather than passing ethane and methanol separately we will solvate the whole merged system. Here we use a cubic box with a base length of 40 Angstroms."
   ]
  },
  {
   "cell_type": "code",
   "execution_count": 22,
   "metadata": {},
   "outputs": [],
   "source": [
    "solvated = BSS.Solvent.tip3p(molecule=merged, box=3*[40*BSS.Units.Length.angstrom])"
   ]
  },
  {
   "cell_type": "markdown",
   "metadata": {},
   "source": [
    "You can see which solvation models are available in BSS by running `print(BSS.Solvent.waterModels())` ."
   ]
  },
  {
   "cell_type": "markdown",
   "metadata": {},
   "source": [
    "#### <span style=\"color:teal\">2.4 Reading and writing perturbable systems</span>\n",
    "<a id=\"readwrite\"></a>\n",
    "\n",
    "You might wish to save a perturbable system to file for use in a future simulation, or to share with a colleague. To do so you can use the `BioSimSpace.IO.savePerturbableSystem` function. This writes the topology and coordinate files for the two end states, which can be read back to reconstruct the system. For example:"
   ]
  },
  {
   "cell_type": "code",
   "execution_count": 23,
   "metadata": {},
   "outputs": [],
   "source": [
    "BSS.IO.savePerturbableSystem(\"pert\", solvated)"
   ]
  },
  {
   "cell_type": "markdown",
   "metadata": {},
   "source": [
    "There should now be four new AMBER format files in your working directory:"
   ]
  },
  {
   "cell_type": "code",
   "execution_count": 24,
   "metadata": {},
   "outputs": [
    {
     "name": "stdout",
     "output_type": "stream",
     "text": [
      "pert0.prm7  pert0.rst7\tpert1.prm7  pert1.rst7\r\n"
     ]
    }
   ],
   "source": [
    "! ls pert*"
   ]
  },
  {
   "cell_type": "markdown",
   "metadata": {},
   "source": [
    "Here `pert0.prm7` and `pert1.prm7` are the topology files for the two end states and `pert0.rst7` and `pert1.rst7` are the coordinates. To re-load the files we can use:"
   ]
  },
  {
   "cell_type": "code",
   "execution_count": 25,
   "metadata": {},
   "outputs": [],
   "source": [
    "solvated = BSS.IO.readPerturbableSystem(\"pert0.prm7\", \"pert0.rst7\", \"pert1.prm7\", \"pert1.rst7\")"
   ]
  },
  {
   "cell_type": "markdown",
   "metadata": {},
   "source": [
    "### <span style=\"color:teal\">3. Solvation free energy</span>\n",
    "<a id=\"free\"></a>\n",
    "We now need to define a protocol to describe the parameters used for the free energy perturbation. A simple protocol consists of a 2 fs timestep,, a runtime of 4 ns and using 9 equally spaced $\\lambda$ windows:"
   ]
  },
  {
   "cell_type": "code",
   "execution_count": 26,
   "metadata": {},
   "outputs": [],
   "source": [
    "protocol = BSS.Protocol.FreeEnergy(timestep=2*BSS.Units.Time.femtosecond, runtime=4*BSS.Units.Time.nanosecond, num_lam=9)"
   ]
  },
  {
   "cell_type": "markdown",
   "metadata": {},
   "source": [
    "Next we want to create objects to configure and run the two legs associated with the relative free-energy perturbation calculation:"
   ]
  },
  {
   "cell_type": "code",
   "execution_count": 28,
   "metadata": {},
   "outputs": [],
   "source": [
    "fep_free = BSS.FreeEnergy.Relative(solvated, protocol, work_dir=\"ethane_methanol_somd/free\")\n",
    "fep_vac  = BSS.FreeEnergy.Relative(merged.toSystem(), protocol, work_dir=\"ethane_methanol_somd/vacuum\")"
   ]
  },
  {
   "cell_type": "markdown",
   "metadata": {},
   "source": [
    "Decoupling the two legs means that we can use a different protocol for each, e.g. less lambda windows for the vacuum leg, or re-use data from a leg in an entirely different calculation, e.g. for a binding free-energy simulation, or to combine results for legs that were run with entirely simulation engines, e.g. SOMD or GROMACS.\n",
    "\n",
    "To run simulations for all of the individual lambda windows for the free leg, you can use:\n",
    "\n",
    "`fep_free.run()`   \n",
    "\n",
    "If you want to start the simulation, but wait for it to finish before the next part of code is executed (i.e. the analysis), you can use the following:\n",
    "\n",
    "`fep_free.wait()`   \n",
    "\n",
    "This only makes sense on a workstation with GPUs or GPU cloud resources or a GPU cluster. Otherwise you will have to wait for too long to run these simulations on the notebook server.\n",
    "\n",
    "Let's have a look the `ethane_methanol_somd/free` directory. In this directory you have now all the files setup and ready for simulation using SOMD as the simulation engine, which is the default."
   ]
  },
  {
   "cell_type": "code",
   "execution_count": 29,
   "metadata": {},
   "outputs": [
    {
     "name": "stdout",
     "output_type": "stream",
     "text": [
      "lambda_0.0000  lambda_0.2500  lambda_0.5000  lambda_0.7500  lambda_1.0000\r\n",
      "lambda_0.1250  lambda_0.3750  lambda_0.6250  lambda_0.8750\r\n"
     ]
    }
   ],
   "source": [
    "! ls ethane_methanol_somd/free"
   ]
  },
  {
   "cell_type": "markdown",
   "metadata": {},
   "source": [
    "#### <span style=\"color:teal\">3.1. Exercises</span>\n",
    "<a id=\"exerc1\"></a>\n",
    "\n",
    "The exercises are announced by the keyword <span style=\"color:teal\">Exercise</span> and followed by an incomplete cell.\n",
    "Missing parts are indicated by:\n",
    "\n",
    "```python\n",
    "#FIXME\n",
    "```\n",
    "\n",
    "#### <span style=\"color:teal\">3.1.1. Exercise on selecting lambda windows</span>\n",
    "\n",
    "Above we defined a protocol with 9 $\\lambda$ windows. For this system this isn't an optimal protocol and we would like to instead use 12 lambda window. Can you write down a protocol that would allow you to run 12 rather than 9 lambda windows?"
   ]
  },
  {
   "cell_type": "code",
   "execution_count": null,
   "metadata": {},
   "outputs": [],
   "source": [
    "protocol = BSS.Protocol.FreeEnergy(#FIXME)\n"
   ]
  },
  {
   "cell_type": "code",
   "execution_count": 30,
   "metadata": {},
   "outputs": [],
   "source": [
    "# answer\n",
    "protocol = BSS.Protocol.FreeEnergy(timestep=2*BSS.Units.Time.femtosecond, runtime=4*BSS.Units.Time.nanosecond, num_lam=12)"
   ]
  },
  {
   "cell_type": "markdown",
   "metadata": {},
   "source": [
    "#### <span style=\"color:teal\">3.1.2. Exercise on merged molecules</span>\n",
    "\n",
    "Previously we have set up an ethane to methanol alchemical free energy simulation. One way of assessing how good an estimate of a free energy difference from an alchemical simulation is by running the simulation in the opposite direction, i.e. methanol to ethane. Can you set up a new merged molecule and run the necessary steps for the free energy setup?"
   ]
  },
  {
   "cell_type": "code",
   "execution_count": null,
   "metadata": {},
   "outputs": [],
   "source": [
    "mapping = #FIXME\n",
    "\n",
    "# Align methanol to ethane based on the mapping.\n",
    "methanol = BSS.Align.rmsdAlign(#FIXME)\n",
    "\n",
    "# Merge the two molecules based on the mapping.\n",
    "merged_methanol = #FIXME\n",
    "solvated_methanol = #FIXME\n",
    "fep_methanol_free = #FIXME\n",
    "fep_methanol_vac = #FIXME"
   ]
  },
  {
   "cell_type": "code",
   "execution_count": 50,
   "metadata": {},
   "outputs": [],
   "source": [
    "# answer\n",
    "# map methanol to ethane\n",
    "mapping = BSS.Align.matchAtoms(methanol, ethane)\n",
    "# get the inverse mapping\n",
    "inv_mapping = {v: k for k, v in mapping.items()}\n",
    "\n",
    "# Align ethane to methanol based on the inverse mapping.\n",
    "ethane_aligned = BSS.Align.rmsdAlign(ethane, methanol, inv_mapping)\n",
    "\n",
    "# Merge the two molecules based on the mapping.\n",
    "merged_methanol = BSS.Align.merge(methanol, ethane_aligned, mapping)\n",
    "# solvate\n",
    "solvated_methanol = BSS.Solvent.tip3p(molecule=merged_methanol, box=3*[40*BSS.Units.Length.angstrom])\n",
    "# create the directories\n",
    "fep_methanol_free = BSS.FreeEnergy.Relative(solvated_methanol, protocol, work_dir=\"methanol_ethane_somd/free\")\n",
    "fep_methanol_vac = BSS.FreeEnergy.Relative(merged_methanol.toSystem(), protocol, work_dir=\"methanol_ethane_somd/vacuum\")"
   ]
  },
  {
   "cell_type": "markdown",
   "metadata": {},
   "source": [
    "#### <span style=\"color:teal\">3.1.3. Exercise on using different simulation engines</span>\n",
    "\n",
    "Currently, alchemical free energy simulations with SOMD and Gromacs are supported. Can you figure out how to setup and run the simulations for the free leg using GROMACS rather than the default of SOMD?\n",
    "\n",
    "**Hint**: look at the `engine` keyword of `FreeEnergy.Relative()`. You might also want to change the working directory."
   ]
  },
  {
   "cell_type": "code",
   "execution_count": null,
   "metadata": {},
   "outputs": [],
   "source": [
    "fep_gromacs_free = BSS.FreeEnergy.Relative(#FIXME)"
   ]
  },
  {
   "cell_type": "code",
   "execution_count": 42,
   "metadata": {},
   "outputs": [],
   "source": [
    "# answer\n",
    "fep_gromacs_free = BSS.FreeEnergy.Relative(solvated_methanol, protocol, work_dir=\"methanol_ethane_gromacs/free\", engine=\"gromacs\")"
   ]
  },
  {
   "cell_type": "markdown",
   "metadata": {},
   "source": [
    "You will notice that again in your `work_dir`, two directories were created `free` and `vacuum`. Have a look at the content of these directories. You will notice that the input files that were generated are now indeed for GROMACS and not SOMD. Take a moment to look at the config files etc, e.g.:"
   ]
  },
  {
   "cell_type": "code",
   "execution_count": 52,
   "metadata": {
    "scrolled": false
   },
   "outputs": [
    {
     "name": "stdout",
     "output_type": "stream",
     "text": [
      "gromacs.err  gromacs.mdp  gromacs.out.mdp  gromacs.tpr\n",
      "gromacs.gro  gromacs.out  gromacs.top\n",
      "somd.cfg  somd.err  somd.out  somd.pert  somd.prm7  somd.rst7\n"
     ]
    }
   ],
   "source": [
    "! ls methanol_ethane_gromacs/free/lambda_0.0000\n",
    "! ls methanol_ethane_somd/free/lambda_0.0000"
   ]
  },
  {
   "cell_type": "markdown",
   "metadata": {},
   "source": [
    "### <span style=\"color:teal\">4. Free energy of binding</span>\n",
    "<a id=\"bind\"></a>\n",
    "\n",
    "So far we have done a setup for free energies of hydration. Next we'll learn how to use BioSimSpace to set up alchemical free energy simulations that can be used to compute free energies of binding. The thermodynamic cycle for the free energy of binding looks like this:\n",
    "\n",
    "![reltherm](images/thermo_cycle_rel_eq.png)\n",
    "\n",
    "In our case the host is Lysozyme, an antimicrobial protein, which has been studied extensivley using alchemical free energy calculations in the past.  "
   ]
  },
  {
   "cell_type": "markdown",
   "metadata": {},
   "source": [
    "#### <span style=\"color:teal\">4.1 Loading the protein and ligands</span>\n",
    "<a id=\"prot\"></a>\n",
    "Loading the protein is done in the same way as loading the small molecules. However, in order to compute free energies of binding, we have to make sure that the ligand is aligned with the protein and in an appropriate binding site. BioSimSpace is not a docking program. Therefore ligands will have to be aligned for alchemical free energy calculations in a different way. First, we will load the protein and ligands to check if they are aligned correctly for the calculation. "
   ]
  },
  {
   "cell_type": "code",
   "execution_count": 68,
   "metadata": {},
   "outputs": [],
   "source": [
    "# Load the protein and two ligands.\n",
    "lysozyme = BSS.IO.readMolecules(\"input/protein.pdb\")[0]\n",
    "benzene = BSS.IO.readMolecules(\"input/benzene.mol2\")[0]\n",
    "o_xylene = BSS.IO.readMolecules(\"input/o-xylene.mol2\")[0]"
   ]
  },
  {
   "cell_type": "code",
   "execution_count": 69,
   "metadata": {},
   "outputs": [],
   "source": [
    "# Combine the molecules into a single container.\n",
    "molecules = lysozyme + benzene + o_xylene"
   ]
  },
  {
   "cell_type": "code",
   "execution_count": 70,
   "metadata": {},
   "outputs": [
    {
     "data": {
      "application/vnd.jupyter.widget-view+json": {
       "model_id": "a7cf2cf481d542a884c5cd0c33c20190",
       "version_major": 2,
       "version_minor": 0
      },
      "text/plain": [
       "NGLWidget(gui_style='ngl')"
      ]
     },
     "metadata": {},
     "output_type": "display_data"
    }
   ],
   "source": [
    "# Create a view to visualise the molecules.\n",
    "view = BSS.Notebook.View(molecules)\n",
    "# View the entire system.\n",
    "view.system()"
   ]
  },
  {
   "cell_type": "markdown",
   "metadata": {},
   "source": [
    "#### <span style=\"color:teal\">4.2 Parametrisation</span>\n",
    "<a id=\"paramp\"></a>\n",
    "\n",
    "For the protein, we can use a standard Amber forcefield such as `Amber 14 SB`:"
   ]
  },
  {
   "cell_type": "code",
   "execution_count": 71,
   "metadata": {},
   "outputs": [],
   "source": [
    "lysozyme = BSS.Parameters.ff14SB(lysozyme).getMolecule()"
   ]
  },
  {
   "cell_type": "markdown",
   "metadata": {},
   "source": [
    "For the two ligands we can chose to parametrise them using `gaff2`. "
   ]
  },
  {
   "cell_type": "code",
   "execution_count": 72,
   "metadata": {},
   "outputs": [],
   "source": [
    "o_xylene = BSS.Parameters.gaff2(o_xylene).getMolecule()\n",
    "benzene = BSS.Parameters.gaff2(benzene).getMolecule()"
   ]
  },
  {
   "cell_type": "markdown",
   "metadata": {},
   "source": [
    "#### <span style=\"color:teal\">4.3 Morphing again</span>\n",
    "<a id=\"morphp\"></a>\n",
    "\n",
    "Now all we have to do is go back through the morphing process and then combine the system. "
   ]
  },
  {
   "cell_type": "code",
   "execution_count": 73,
   "metadata": {},
   "outputs": [
    {
     "data": {
      "application/3dmoljs_load.v0": "<div id=\"3dmolviewer_1661956414829946\"  style=\"position: relative; width: 900px; height: 450px\">\n        <p id=\"3dmolwarning_1661956414829946\" style=\"background-color:#ffcccc;color:black\">You appear to be running in JupyterLab (or JavaScript failed to load for some other reason).  You need to install the 3dmol extension: <br>\n        <tt>jupyter labextension install jupyterlab_3dmol</tt></p>\n        </div>\n<script>\n\nvar loadScriptAsync = function(uri){\n  return new Promise((resolve, reject) => {\n    var tag = document.createElement('script');\n    tag.src = uri;\n    tag.async = true;\n    tag.onload = () => {\n      resolve();\n    };\n  var firstScriptTag = document.getElementsByTagName('script')[0];\n  firstScriptTag.parentNode.insertBefore(tag, firstScriptTag);\n});\n};\n\nif(typeof $3Dmolpromise === 'undefined') {\n$3Dmolpromise = null;\n  $3Dmolpromise = loadScriptAsync('https://cdn.jsdelivr.net/npm/3dmol@latest/build/3Dmol-min.min.js');\n}\n\nvar viewer_1661956414829946 = null;\nvar warn = document.getElementById(\"3dmolwarning_1661956414829946\");\nif(warn) {\n    warn.parentNode.removeChild(warn);\n}\n$3Dmolpromise.then(function() {\nvar viewergrid_1661956414829946 = null;\nviewergrid_1661956414829946 = $3Dmol.createViewerGrid($(\"#3dmolviewer_1661956414829946\"),{rows: 1, cols: 2, control_all: false},{backgroundColor:\"white\"});\nviewer_1661956414829946 = viewergrid_1661956414829946[0][0];\nviewergrid_1661956414829946[0][0].zoomTo();viewergrid_1661956414829946[0][1].zoomTo();\tviewergrid_1661956414829946[0][0].addModel(\"\\n     RDKit          3D\\n\\n 18 18  0  0  0  0  0  0  0  0999 V2000\\n   27.2140    7.4650    4.4890 C   0  0  0  0  0  0  0  0  0  0  0  0\\n   27.5750    6.9460    3.2690 C   0  0  0  0  0  0  0  0  0  0  0  0\\n   27.2520    5.6280    2.9580 C   0  0  0  0  0  0  0  0  0  0  0  0\\n   27.6340    5.1780    2.0570 H   0  0  0  0  0  0  0  0  0  0  0  0\\n   26.4320    4.8790    3.8100 C   0  0  0  0  0  0  0  0  0  0  0  0\\n   26.1140    3.8920    3.5210 H   0  0  0  0  0  0  0  0  0  0  0  0\\n   26.0190    5.4030    5.0400 C   0  0  0  0  0  0  0  0  0  0  0  0\\n   25.3840    4.8210    5.6870 H   0  0  0  0  0  0  0  0  0  0  0  0\\n   26.4360    6.6760    5.4130 C   0  0  0  0  0  0  0  0  0  0  0  0\\n   26.1830    7.0740    6.3810 H   0  0  0  0  0  0  0  0  0  0  0  0\\n   27.6430    8.8780    4.7960 C   0  0  0  0  0  0  0  0  0  0  0  0\\n   28.7000    8.9370    4.7830 H   0  0  0  0  0  0  0  0  0  0  0  0\\n   27.2440    9.5340    4.0670 H   0  0  0  0  0  0  0  0  0  0  0  0\\n   27.2860    9.1550    5.7540 H   0  0  0  0  0  0  0  0  0  0  0  0\\n   28.4530    7.7660    2.3490 C   0  0  0  0  0  0  0  0  0  0  0  0\\n   29.3210    8.0740    2.8710 H   0  0  0  0  0  0  0  0  0  0  0  0\\n   27.9190    8.6190    2.0190 H   0  0  0  0  0  0  0  0  0  0  0  0\\n   28.7330    7.1790    1.5130 H   0  0  0  0  0  0  0  0  0  0  0  0\\n  1  2  1  0\\n  1  9  1  0\\n  1 11  1  0\\n  2  3  1  0\\n  2 15  1  0\\n  3  4  1  0\\n  3  5  1  0\\n  5  6  1  0\\n  5  7  1  0\\n  7  8  1  0\\n  7  9  1  0\\n  9 10  1  0\\n 11 12  1  0\\n 11 13  1  0\\n 11 14  1  0\\n 15 16  1  0\\n 15 17  1  0\\n 15 18  1  0\\nM  END\\n\",\"mol0\");\n\tviewergrid_1661956414829946[0][1].addModel(\"\\n     RDKit          3D\\n\\n 12 12  0  0  0  0  0  0  0  0999 V2000\\n   25.9780    5.3270    4.7790 C   0  0  0  0  0  0  0  0  0  0  0  0\\n   25.2390    4.6940    5.2400 H   0  0  0  0  0  0  0  0  0  0  0  0\\n   26.3950    5.0740    3.4990 C   0  0  0  0  0  0  0  0  0  0  0  0\\n   25.9770    4.2470    2.9500 H   0  0  0  0  0  0  0  0  0  0  0  0\\n   27.3400    5.8600    2.9020 C   0  0  0  0  0  0  0  0  0  0  0  0\\n   27.6820    5.6300    1.9070 H   0  0  0  0  0  0  0  0  0  0  0  0\\n   27.8370    6.9210    3.5690 C   0  0  0  0  0  0  0  0  0  0  0  0\\n   28.5640    7.5610    3.0980 H   0  0  0  0  0  0  0  0  0  0  0  0\\n   27.4200    7.1960    4.8560 C   0  0  0  0  0  0  0  0  0  0  0  0\\n   27.8160    8.0500    5.3800 H   0  0  0  0  0  0  0  0  0  0  0  0\\n   26.4980    6.3790    5.4690 C   0  0  0  0  0  0  0  0  0  0  0  0\\n   26.1870    6.5640    6.4830 H   0  0  0  0  0  0  0  0  0  0  0  0\\n  1  2  1  0\\n  1  3  1  0\\n  1 11  1  0\\n  3  4  1  0\\n  3  5  1  0\\n  5  6  1  0\\n  5  7  1  0\\n  7  8  1  0\\n  7  9  1  0\\n  9 10  1  0\\n  9 11  1  0\\n 11 12  1  0\\nM  END\\n\",\"mol1\");\n\tviewergrid_1661956414829946[0][0].setStyle({\"model\": 0},{\"stick\": {\"colorscheme\": \"grayCarbon\", \"linewidth\": 0.1}});\n\tviewergrid_1661956414829946[0][1].setStyle({\"model\": 0},{\"stick\": {\"colorscheme\": \"grayCarbon\", \"linewidth\": 0.1}});\n\tviewergrid_1661956414829946[0][0].addSphere({\"center\": {\"x\": 27.214, \"y\": 7.465, \"z\": 4.489}, \"radius\": 0.5, \"color\": \"green\", \"alpha\": 0.8});\n\tviewergrid_1661956414829946[0][0].addLabel(\"0 \\u2192 4\",{\"position\": {\"x\": 27.214, \"y\": 7.465, \"z\": 4.489}});\n\tviewergrid_1661956414829946[0][1].addSphere({\"center\": {\"x\": 27.34, \"y\": 5.86, \"z\": 2.902}, \"radius\": 0.5, \"color\": \"green\", \"alpha\": 0.8});\n\tviewergrid_1661956414829946[0][1].addLabel(\"4 \\u2192 0\",{\"position\": {\"x\": 27.34, \"y\": 5.86, \"z\": 2.902}});\n\tviewergrid_1661956414829946[0][0].addSphere({\"center\": {\"x\": 27.643, \"y\": 8.878, \"z\": 4.796}, \"radius\": 0.5, \"color\": \"green\", \"alpha\": 0.8});\n\tviewergrid_1661956414829946[0][0].addLabel(\"10 \\u2192 5\",{\"position\": {\"x\": 27.643, \"y\": 8.878, \"z\": 4.796}});\n\tviewergrid_1661956414829946[0][1].addSphere({\"center\": {\"x\": 27.682, \"y\": 5.63, \"z\": 1.907}, \"radius\": 0.5, \"color\": \"green\", \"alpha\": 0.8});\n\tviewergrid_1661956414829946[0][1].addLabel(\"5 \\u2192 10\",{\"position\": {\"x\": 27.682, \"y\": 5.63, \"z\": 1.907}});\n\tviewergrid_1661956414829946[0][0].addSphere({\"center\": {\"x\": 27.575, \"y\": 6.946, \"z\": 3.269}, \"radius\": 0.5, \"color\": \"green\", \"alpha\": 0.8});\n\tviewergrid_1661956414829946[0][0].addLabel(\"1 \\u2192 6\",{\"position\": {\"x\": 27.575, \"y\": 6.946, \"z\": 3.269}});\n\tviewergrid_1661956414829946[0][1].addSphere({\"center\": {\"x\": 27.837, \"y\": 6.921, \"z\": 3.569}, \"radius\": 0.5, \"color\": \"green\", \"alpha\": 0.8});\n\tviewergrid_1661956414829946[0][1].addLabel(\"6 \\u2192 1\",{\"position\": {\"x\": 27.837, \"y\": 6.921, \"z\": 3.569}});\n\tviewergrid_1661956414829946[0][0].addSphere({\"center\": {\"x\": 28.453, \"y\": 7.766, \"z\": 2.349}, \"radius\": 0.5, \"color\": \"green\", \"alpha\": 0.8});\n\tviewergrid_1661956414829946[0][0].addLabel(\"14 \\u2192 7\",{\"position\": {\"x\": 28.453, \"y\": 7.766, \"z\": 2.349}});\n\tviewergrid_1661956414829946[0][1].addSphere({\"center\": {\"x\": 28.564, \"y\": 7.561, \"z\": 3.098}, \"radius\": 0.5, \"color\": \"green\", \"alpha\": 0.8});\n\tviewergrid_1661956414829946[0][1].addLabel(\"7 \\u2192 14\",{\"position\": {\"x\": 28.564, \"y\": 7.561, \"z\": 3.098}});\n\tviewergrid_1661956414829946[0][0].addSphere({\"center\": {\"x\": 27.252, \"y\": 5.628, \"z\": 2.958}, \"radius\": 0.5, \"color\": \"green\", \"alpha\": 0.8});\n\tviewergrid_1661956414829946[0][0].addLabel(\"2 \\u2192 8\",{\"position\": {\"x\": 27.252, \"y\": 5.628, \"z\": 2.958}});\n\tviewergrid_1661956414829946[0][1].addSphere({\"center\": {\"x\": 27.42, \"y\": 7.196, \"z\": 4.856}, \"radius\": 0.5, \"color\": \"green\", \"alpha\": 0.8});\n\tviewergrid_1661956414829946[0][1].addLabel(\"8 \\u2192 2\",{\"position\": {\"x\": 27.42, \"y\": 7.196, \"z\": 4.856}});\n\tviewergrid_1661956414829946[0][0].addSphere({\"center\": {\"x\": 27.634, \"y\": 5.178, \"z\": 2.057}, \"radius\": 0.5, \"color\": \"green\", \"alpha\": 0.8});\n\tviewergrid_1661956414829946[0][0].addLabel(\"3 \\u2192 9\",{\"position\": {\"x\": 27.634, \"y\": 5.178, \"z\": 2.057}});\n\tviewergrid_1661956414829946[0][1].addSphere({\"center\": {\"x\": 27.816, \"y\": 8.05, \"z\": 5.38}, \"radius\": 0.5, \"color\": \"green\", \"alpha\": 0.8});\n\tviewergrid_1661956414829946[0][1].addLabel(\"9 \\u2192 3\",{\"position\": {\"x\": 27.816, \"y\": 8.05, \"z\": 5.38}});\n\tviewergrid_1661956414829946[0][0].addSphere({\"center\": {\"x\": 26.432, \"y\": 4.879, \"z\": 3.81}, \"radius\": 0.5, \"color\": \"green\", \"alpha\": 0.8});\n\tviewergrid_1661956414829946[0][0].addLabel(\"4 \\u2192 10\",{\"position\": {\"x\": 26.432, \"y\": 4.879, \"z\": 3.81}});\n\tviewergrid_1661956414829946[0][1].addSphere({\"center\": {\"x\": 26.498, \"y\": 6.379, \"z\": 5.469}, \"radius\": 0.5, \"color\": \"green\", \"alpha\": 0.8});\n\tviewergrid_1661956414829946[0][1].addLabel(\"10 \\u2192 4\",{\"position\": {\"x\": 26.498, \"y\": 6.379, \"z\": 5.469}});\n\tviewergrid_1661956414829946[0][0].addSphere({\"center\": {\"x\": 26.019, \"y\": 5.403, \"z\": 5.04}, \"radius\": 0.5, \"color\": \"green\", \"alpha\": 0.8});\n\tviewergrid_1661956414829946[0][0].addLabel(\"6 \\u2192 0\",{\"position\": {\"x\": 26.019, \"y\": 5.403, \"z\": 5.04}});\n\tviewergrid_1661956414829946[0][1].addSphere({\"center\": {\"x\": 25.978, \"y\": 5.327, \"z\": 4.779}, \"radius\": 0.5, \"color\": \"green\", \"alpha\": 0.8});\n\tviewergrid_1661956414829946[0][1].addLabel(\"0 \\u2192 6\",{\"position\": {\"x\": 25.978, \"y\": 5.327, \"z\": 4.779}});\n\tviewergrid_1661956414829946[0][0].addSphere({\"center\": {\"x\": 26.436, \"y\": 6.676, \"z\": 5.413}, \"radius\": 0.5, \"color\": \"green\", \"alpha\": 0.8});\n\tviewergrid_1661956414829946[0][0].addLabel(\"8 \\u2192 2\",{\"position\": {\"x\": 26.436, \"y\": 6.676, \"z\": 5.413}});\n\tviewergrid_1661956414829946[0][1].addSphere({\"center\": {\"x\": 26.395, \"y\": 5.074, \"z\": 3.499}, \"radius\": 0.5, \"color\": \"green\", \"alpha\": 0.8});\n\tviewergrid_1661956414829946[0][1].addLabel(\"2 \\u2192 8\",{\"position\": {\"x\": 26.395, \"y\": 5.074, \"z\": 3.499}});\n\tviewergrid_1661956414829946[0][0].addSphere({\"center\": {\"x\": 26.183, \"y\": 7.074, \"z\": 6.381}, \"radius\": 0.5, \"color\": \"green\", \"alpha\": 0.8});\n\tviewergrid_1661956414829946[0][0].addLabel(\"9 \\u2192 3\",{\"position\": {\"x\": 26.183, \"y\": 7.074, \"z\": 6.381}});\n\tviewergrid_1661956414829946[0][1].addSphere({\"center\": {\"x\": 25.977, \"y\": 4.247, \"z\": 2.95}, \"radius\": 0.5, \"color\": \"green\", \"alpha\": 0.8});\n\tviewergrid_1661956414829946[0][1].addLabel(\"3 \\u2192 9\",{\"position\": {\"x\": 25.977, \"y\": 4.247, \"z\": 2.95}});\n\tviewergrid_1661956414829946[0][0].addSphere({\"center\": {\"x\": 25.384, \"y\": 4.821, \"z\": 5.687}, \"radius\": 0.5, \"color\": \"green\", \"alpha\": 0.8});\n\tviewergrid_1661956414829946[0][0].addLabel(\"7 \\u2192 1\",{\"position\": {\"x\": 25.384, \"y\": 4.821, \"z\": 5.687}});\n\tviewergrid_1661956414829946[0][1].addSphere({\"center\": {\"x\": 25.239, \"y\": 4.694, \"z\": 5.24}, \"radius\": 0.5, \"color\": \"green\", \"alpha\": 0.8});\n\tviewergrid_1661956414829946[0][1].addLabel(\"1 \\u2192 7\",{\"position\": {\"x\": 25.239, \"y\": 4.694, \"z\": 5.24}});\n\tviewergrid_1661956414829946[0][0].addSphere({\"center\": {\"x\": 26.114, \"y\": 3.892, \"z\": 3.521}, \"radius\": 0.5, \"color\": \"green\", \"alpha\": 0.8});\n\tviewergrid_1661956414829946[0][0].addLabel(\"5 \\u2192 11\",{\"position\": {\"x\": 26.114, \"y\": 3.892, \"z\": 3.521}});\n\tviewergrid_1661956414829946[0][1].addSphere({\"center\": {\"x\": 26.187, \"y\": 6.564, \"z\": 6.483}, \"radius\": 0.5, \"color\": \"green\", \"alpha\": 0.8});\n\tviewergrid_1661956414829946[0][1].addLabel(\"11 \\u2192 5\",{\"position\": {\"x\": 26.187, \"y\": 6.564, \"z\": 6.483}});\n\tviewergrid_1661956414829946[0][0].setBackgroundColor(\"white\");\n\tviewergrid_1661956414829946[0][1].setBackgroundColor(\"white\");\n\tviewergrid_1661956414829946[0][0].zoomTo();\n\tviewergrid_1661956414829946[0][1].zoomTo();\nviewergrid_1661956414829946[0][1].render();\nviewergrid_1661956414829946[0][0].render();\n});\n</script>",
      "text/html": [
       "<div id=\"3dmolviewer_1661956414829946\"  style=\"position: relative; width: 900px; height: 450px\">\n",
       "        <p id=\"3dmolwarning_1661956414829946\" style=\"background-color:#ffcccc;color:black\">You appear to be running in JupyterLab (or JavaScript failed to load for some other reason).  You need to install the 3dmol extension: <br>\n",
       "        <tt>jupyter labextension install jupyterlab_3dmol</tt></p>\n",
       "        </div>\n",
       "<script>\n",
       "\n",
       "var loadScriptAsync = function(uri){\n",
       "  return new Promise((resolve, reject) => {\n",
       "    var tag = document.createElement('script');\n",
       "    tag.src = uri;\n",
       "    tag.async = true;\n",
       "    tag.onload = () => {\n",
       "      resolve();\n",
       "    };\n",
       "  var firstScriptTag = document.getElementsByTagName('script')[0];\n",
       "  firstScriptTag.parentNode.insertBefore(tag, firstScriptTag);\n",
       "});\n",
       "};\n",
       "\n",
       "if(typeof $3Dmolpromise === 'undefined') {\n",
       "$3Dmolpromise = null;\n",
       "  $3Dmolpromise = loadScriptAsync('https://cdn.jsdelivr.net/npm/3dmol@latest/build/3Dmol-min.min.js');\n",
       "}\n",
       "\n",
       "var viewer_1661956414829946 = null;\n",
       "var warn = document.getElementById(\"3dmolwarning_1661956414829946\");\n",
       "if(warn) {\n",
       "    warn.parentNode.removeChild(warn);\n",
       "}\n",
       "$3Dmolpromise.then(function() {\n",
       "var viewergrid_1661956414829946 = null;\n",
       "viewergrid_1661956414829946 = $3Dmol.createViewerGrid($(\"#3dmolviewer_1661956414829946\"),{rows: 1, cols: 2, control_all: false},{backgroundColor:\"white\"});\n",
       "viewer_1661956414829946 = viewergrid_1661956414829946[0][0];\n",
       "viewergrid_1661956414829946[0][0].zoomTo();viewergrid_1661956414829946[0][1].zoomTo();\tviewergrid_1661956414829946[0][0].addModel(\"\\n     RDKit          3D\\n\\n 18 18  0  0  0  0  0  0  0  0999 V2000\\n   27.2140    7.4650    4.4890 C   0  0  0  0  0  0  0  0  0  0  0  0\\n   27.5750    6.9460    3.2690 C   0  0  0  0  0  0  0  0  0  0  0  0\\n   27.2520    5.6280    2.9580 C   0  0  0  0  0  0  0  0  0  0  0  0\\n   27.6340    5.1780    2.0570 H   0  0  0  0  0  0  0  0  0  0  0  0\\n   26.4320    4.8790    3.8100 C   0  0  0  0  0  0  0  0  0  0  0  0\\n   26.1140    3.8920    3.5210 H   0  0  0  0  0  0  0  0  0  0  0  0\\n   26.0190    5.4030    5.0400 C   0  0  0  0  0  0  0  0  0  0  0  0\\n   25.3840    4.8210    5.6870 H   0  0  0  0  0  0  0  0  0  0  0  0\\n   26.4360    6.6760    5.4130 C   0  0  0  0  0  0  0  0  0  0  0  0\\n   26.1830    7.0740    6.3810 H   0  0  0  0  0  0  0  0  0  0  0  0\\n   27.6430    8.8780    4.7960 C   0  0  0  0  0  0  0  0  0  0  0  0\\n   28.7000    8.9370    4.7830 H   0  0  0  0  0  0  0  0  0  0  0  0\\n   27.2440    9.5340    4.0670 H   0  0  0  0  0  0  0  0  0  0  0  0\\n   27.2860    9.1550    5.7540 H   0  0  0  0  0  0  0  0  0  0  0  0\\n   28.4530    7.7660    2.3490 C   0  0  0  0  0  0  0  0  0  0  0  0\\n   29.3210    8.0740    2.8710 H   0  0  0  0  0  0  0  0  0  0  0  0\\n   27.9190    8.6190    2.0190 H   0  0  0  0  0  0  0  0  0  0  0  0\\n   28.7330    7.1790    1.5130 H   0  0  0  0  0  0  0  0  0  0  0  0\\n  1  2  1  0\\n  1  9  1  0\\n  1 11  1  0\\n  2  3  1  0\\n  2 15  1  0\\n  3  4  1  0\\n  3  5  1  0\\n  5  6  1  0\\n  5  7  1  0\\n  7  8  1  0\\n  7  9  1  0\\n  9 10  1  0\\n 11 12  1  0\\n 11 13  1  0\\n 11 14  1  0\\n 15 16  1  0\\n 15 17  1  0\\n 15 18  1  0\\nM  END\\n\",\"mol0\");\n",
       "\tviewergrid_1661956414829946[0][1].addModel(\"\\n     RDKit          3D\\n\\n 12 12  0  0  0  0  0  0  0  0999 V2000\\n   25.9780    5.3270    4.7790 C   0  0  0  0  0  0  0  0  0  0  0  0\\n   25.2390    4.6940    5.2400 H   0  0  0  0  0  0  0  0  0  0  0  0\\n   26.3950    5.0740    3.4990 C   0  0  0  0  0  0  0  0  0  0  0  0\\n   25.9770    4.2470    2.9500 H   0  0  0  0  0  0  0  0  0  0  0  0\\n   27.3400    5.8600    2.9020 C   0  0  0  0  0  0  0  0  0  0  0  0\\n   27.6820    5.6300    1.9070 H   0  0  0  0  0  0  0  0  0  0  0  0\\n   27.8370    6.9210    3.5690 C   0  0  0  0  0  0  0  0  0  0  0  0\\n   28.5640    7.5610    3.0980 H   0  0  0  0  0  0  0  0  0  0  0  0\\n   27.4200    7.1960    4.8560 C   0  0  0  0  0  0  0  0  0  0  0  0\\n   27.8160    8.0500    5.3800 H   0  0  0  0  0  0  0  0  0  0  0  0\\n   26.4980    6.3790    5.4690 C   0  0  0  0  0  0  0  0  0  0  0  0\\n   26.1870    6.5640    6.4830 H   0  0  0  0  0  0  0  0  0  0  0  0\\n  1  2  1  0\\n  1  3  1  0\\n  1 11  1  0\\n  3  4  1  0\\n  3  5  1  0\\n  5  6  1  0\\n  5  7  1  0\\n  7  8  1  0\\n  7  9  1  0\\n  9 10  1  0\\n  9 11  1  0\\n 11 12  1  0\\nM  END\\n\",\"mol1\");\n",
       "\tviewergrid_1661956414829946[0][0].setStyle({\"model\": 0},{\"stick\": {\"colorscheme\": \"grayCarbon\", \"linewidth\": 0.1}});\n",
       "\tviewergrid_1661956414829946[0][1].setStyle({\"model\": 0},{\"stick\": {\"colorscheme\": \"grayCarbon\", \"linewidth\": 0.1}});\n",
       "\tviewergrid_1661956414829946[0][0].addSphere({\"center\": {\"x\": 27.214, \"y\": 7.465, \"z\": 4.489}, \"radius\": 0.5, \"color\": \"green\", \"alpha\": 0.8});\n",
       "\tviewergrid_1661956414829946[0][0].addLabel(\"0 \\u2192 4\",{\"position\": {\"x\": 27.214, \"y\": 7.465, \"z\": 4.489}});\n",
       "\tviewergrid_1661956414829946[0][1].addSphere({\"center\": {\"x\": 27.34, \"y\": 5.86, \"z\": 2.902}, \"radius\": 0.5, \"color\": \"green\", \"alpha\": 0.8});\n",
       "\tviewergrid_1661956414829946[0][1].addLabel(\"4 \\u2192 0\",{\"position\": {\"x\": 27.34, \"y\": 5.86, \"z\": 2.902}});\n",
       "\tviewergrid_1661956414829946[0][0].addSphere({\"center\": {\"x\": 27.643, \"y\": 8.878, \"z\": 4.796}, \"radius\": 0.5, \"color\": \"green\", \"alpha\": 0.8});\n",
       "\tviewergrid_1661956414829946[0][0].addLabel(\"10 \\u2192 5\",{\"position\": {\"x\": 27.643, \"y\": 8.878, \"z\": 4.796}});\n",
       "\tviewergrid_1661956414829946[0][1].addSphere({\"center\": {\"x\": 27.682, \"y\": 5.63, \"z\": 1.907}, \"radius\": 0.5, \"color\": \"green\", \"alpha\": 0.8});\n",
       "\tviewergrid_1661956414829946[0][1].addLabel(\"5 \\u2192 10\",{\"position\": {\"x\": 27.682, \"y\": 5.63, \"z\": 1.907}});\n",
       "\tviewergrid_1661956414829946[0][0].addSphere({\"center\": {\"x\": 27.575, \"y\": 6.946, \"z\": 3.269}, \"radius\": 0.5, \"color\": \"green\", \"alpha\": 0.8});\n",
       "\tviewergrid_1661956414829946[0][0].addLabel(\"1 \\u2192 6\",{\"position\": {\"x\": 27.575, \"y\": 6.946, \"z\": 3.269}});\n",
       "\tviewergrid_1661956414829946[0][1].addSphere({\"center\": {\"x\": 27.837, \"y\": 6.921, \"z\": 3.569}, \"radius\": 0.5, \"color\": \"green\", \"alpha\": 0.8});\n",
       "\tviewergrid_1661956414829946[0][1].addLabel(\"6 \\u2192 1\",{\"position\": {\"x\": 27.837, \"y\": 6.921, \"z\": 3.569}});\n",
       "\tviewergrid_1661956414829946[0][0].addSphere({\"center\": {\"x\": 28.453, \"y\": 7.766, \"z\": 2.349}, \"radius\": 0.5, \"color\": \"green\", \"alpha\": 0.8});\n",
       "\tviewergrid_1661956414829946[0][0].addLabel(\"14 \\u2192 7\",{\"position\": {\"x\": 28.453, \"y\": 7.766, \"z\": 2.349}});\n",
       "\tviewergrid_1661956414829946[0][1].addSphere({\"center\": {\"x\": 28.564, \"y\": 7.561, \"z\": 3.098}, \"radius\": 0.5, \"color\": \"green\", \"alpha\": 0.8});\n",
       "\tviewergrid_1661956414829946[0][1].addLabel(\"7 \\u2192 14\",{\"position\": {\"x\": 28.564, \"y\": 7.561, \"z\": 3.098}});\n",
       "\tviewergrid_1661956414829946[0][0].addSphere({\"center\": {\"x\": 27.252, \"y\": 5.628, \"z\": 2.958}, \"radius\": 0.5, \"color\": \"green\", \"alpha\": 0.8});\n",
       "\tviewergrid_1661956414829946[0][0].addLabel(\"2 \\u2192 8\",{\"position\": {\"x\": 27.252, \"y\": 5.628, \"z\": 2.958}});\n",
       "\tviewergrid_1661956414829946[0][1].addSphere({\"center\": {\"x\": 27.42, \"y\": 7.196, \"z\": 4.856}, \"radius\": 0.5, \"color\": \"green\", \"alpha\": 0.8});\n",
       "\tviewergrid_1661956414829946[0][1].addLabel(\"8 \\u2192 2\",{\"position\": {\"x\": 27.42, \"y\": 7.196, \"z\": 4.856}});\n",
       "\tviewergrid_1661956414829946[0][0].addSphere({\"center\": {\"x\": 27.634, \"y\": 5.178, \"z\": 2.057}, \"radius\": 0.5, \"color\": \"green\", \"alpha\": 0.8});\n",
       "\tviewergrid_1661956414829946[0][0].addLabel(\"3 \\u2192 9\",{\"position\": {\"x\": 27.634, \"y\": 5.178, \"z\": 2.057}});\n",
       "\tviewergrid_1661956414829946[0][1].addSphere({\"center\": {\"x\": 27.816, \"y\": 8.05, \"z\": 5.38}, \"radius\": 0.5, \"color\": \"green\", \"alpha\": 0.8});\n",
       "\tviewergrid_1661956414829946[0][1].addLabel(\"9 \\u2192 3\",{\"position\": {\"x\": 27.816, \"y\": 8.05, \"z\": 5.38}});\n",
       "\tviewergrid_1661956414829946[0][0].addSphere({\"center\": {\"x\": 26.432, \"y\": 4.879, \"z\": 3.81}, \"radius\": 0.5, \"color\": \"green\", \"alpha\": 0.8});\n",
       "\tviewergrid_1661956414829946[0][0].addLabel(\"4 \\u2192 10\",{\"position\": {\"x\": 26.432, \"y\": 4.879, \"z\": 3.81}});\n",
       "\tviewergrid_1661956414829946[0][1].addSphere({\"center\": {\"x\": 26.498, \"y\": 6.379, \"z\": 5.469}, \"radius\": 0.5, \"color\": \"green\", \"alpha\": 0.8});\n",
       "\tviewergrid_1661956414829946[0][1].addLabel(\"10 \\u2192 4\",{\"position\": {\"x\": 26.498, \"y\": 6.379, \"z\": 5.469}});\n",
       "\tviewergrid_1661956414829946[0][0].addSphere({\"center\": {\"x\": 26.019, \"y\": 5.403, \"z\": 5.04}, \"radius\": 0.5, \"color\": \"green\", \"alpha\": 0.8});\n",
       "\tviewergrid_1661956414829946[0][0].addLabel(\"6 \\u2192 0\",{\"position\": {\"x\": 26.019, \"y\": 5.403, \"z\": 5.04}});\n",
       "\tviewergrid_1661956414829946[0][1].addSphere({\"center\": {\"x\": 25.978, \"y\": 5.327, \"z\": 4.779}, \"radius\": 0.5, \"color\": \"green\", \"alpha\": 0.8});\n",
       "\tviewergrid_1661956414829946[0][1].addLabel(\"0 \\u2192 6\",{\"position\": {\"x\": 25.978, \"y\": 5.327, \"z\": 4.779}});\n",
       "\tviewergrid_1661956414829946[0][0].addSphere({\"center\": {\"x\": 26.436, \"y\": 6.676, \"z\": 5.413}, \"radius\": 0.5, \"color\": \"green\", \"alpha\": 0.8});\n",
       "\tviewergrid_1661956414829946[0][0].addLabel(\"8 \\u2192 2\",{\"position\": {\"x\": 26.436, \"y\": 6.676, \"z\": 5.413}});\n",
       "\tviewergrid_1661956414829946[0][1].addSphere({\"center\": {\"x\": 26.395, \"y\": 5.074, \"z\": 3.499}, \"radius\": 0.5, \"color\": \"green\", \"alpha\": 0.8});\n",
       "\tviewergrid_1661956414829946[0][1].addLabel(\"2 \\u2192 8\",{\"position\": {\"x\": 26.395, \"y\": 5.074, \"z\": 3.499}});\n",
       "\tviewergrid_1661956414829946[0][0].addSphere({\"center\": {\"x\": 26.183, \"y\": 7.074, \"z\": 6.381}, \"radius\": 0.5, \"color\": \"green\", \"alpha\": 0.8});\n",
       "\tviewergrid_1661956414829946[0][0].addLabel(\"9 \\u2192 3\",{\"position\": {\"x\": 26.183, \"y\": 7.074, \"z\": 6.381}});\n",
       "\tviewergrid_1661956414829946[0][1].addSphere({\"center\": {\"x\": 25.977, \"y\": 4.247, \"z\": 2.95}, \"radius\": 0.5, \"color\": \"green\", \"alpha\": 0.8});\n",
       "\tviewergrid_1661956414829946[0][1].addLabel(\"3 \\u2192 9\",{\"position\": {\"x\": 25.977, \"y\": 4.247, \"z\": 2.95}});\n",
       "\tviewergrid_1661956414829946[0][0].addSphere({\"center\": {\"x\": 25.384, \"y\": 4.821, \"z\": 5.687}, \"radius\": 0.5, \"color\": \"green\", \"alpha\": 0.8});\n",
       "\tviewergrid_1661956414829946[0][0].addLabel(\"7 \\u2192 1\",{\"position\": {\"x\": 25.384, \"y\": 4.821, \"z\": 5.687}});\n",
       "\tviewergrid_1661956414829946[0][1].addSphere({\"center\": {\"x\": 25.239, \"y\": 4.694, \"z\": 5.24}, \"radius\": 0.5, \"color\": \"green\", \"alpha\": 0.8});\n",
       "\tviewergrid_1661956414829946[0][1].addLabel(\"1 \\u2192 7\",{\"position\": {\"x\": 25.239, \"y\": 4.694, \"z\": 5.24}});\n",
       "\tviewergrid_1661956414829946[0][0].addSphere({\"center\": {\"x\": 26.114, \"y\": 3.892, \"z\": 3.521}, \"radius\": 0.5, \"color\": \"green\", \"alpha\": 0.8});\n",
       "\tviewergrid_1661956414829946[0][0].addLabel(\"5 \\u2192 11\",{\"position\": {\"x\": 26.114, \"y\": 3.892, \"z\": 3.521}});\n",
       "\tviewergrid_1661956414829946[0][1].addSphere({\"center\": {\"x\": 26.187, \"y\": 6.564, \"z\": 6.483}, \"radius\": 0.5, \"color\": \"green\", \"alpha\": 0.8});\n",
       "\tviewergrid_1661956414829946[0][1].addLabel(\"11 \\u2192 5\",{\"position\": {\"x\": 26.187, \"y\": 6.564, \"z\": 6.483}});\n",
       "\tviewergrid_1661956414829946[0][0].setBackgroundColor(\"white\");\n",
       "\tviewergrid_1661956414829946[0][1].setBackgroundColor(\"white\");\n",
       "\tviewergrid_1661956414829946[0][0].zoomTo();\n",
       "\tviewergrid_1661956414829946[0][1].zoomTo();\n",
       "viewergrid_1661956414829946[0][1].render();\n",
       "viewergrid_1661956414829946[0][0].render();\n",
       "});\n",
       "</script>"
      ]
     },
     "metadata": {},
     "output_type": "display_data"
    },
    {
     "data": {
      "text/plain": [
       "<py3Dmol.view at 0x7f491e2a2c10>"
      ]
     },
     "execution_count": 73,
     "metadata": {},
     "output_type": "execute_result"
    }
   ],
   "source": [
    "mapping = BSS.Align.matchAtoms(o_xylene, benzene)\n",
    "inv_mapping = {v: k for k, v in mapping.items()}\n",
    "\n",
    "# we can visualise this mapping again as before\n",
    "BSS.Align.viewMapping(o_xylene, benzene, mapping)"
   ]
  },
  {
   "cell_type": "code",
   "execution_count": 74,
   "metadata": {},
   "outputs": [],
   "source": [
    "# Align benzene to o_xylene based on the inverse mapping.\n",
    "benzene_aligned = BSS.Align.rmsdAlign(benzene, o_xylene, inv_mapping)\n",
    "\n",
    "# Merge the two ligands based on the mapping.\n",
    "merged = BSS.Align.merge(o_xylene, benzene_aligned, mapping)"
   ]
  },
  {
   "cell_type": "markdown",
   "metadata": {},
   "source": [
    "Next we need to create a composite system containing the merged molecule and the protein:"
   ]
  },
  {
   "cell_type": "code",
   "execution_count": 76,
   "metadata": {},
   "outputs": [],
   "source": [
    "complx = merged + lysozyme"
   ]
  },
  {
   "cell_type": "markdown",
   "metadata": {},
   "source": [
    "#### <span style=\"color:teal\">4.4 Binding free energy simulation</span>\n",
    "<a id=\"runbind\"></a>\n",
    "Now we can solvate and set up the binding free energy simulation. It looks very similar to the solvation one."
   ]
  },
  {
   "cell_type": "code",
   "execution_count": 80,
   "metadata": {},
   "outputs": [],
   "source": [
    "# Solvate the protein ligand complex in a 60 angstrom box of TIP3P water.\n",
    "complex_sol = BSS.Solvent.tip3p(molecule=complx, box=3*[60*BSS.Units.Length.angstrom])\n",
    "\n",
    "# Solvate the merged ligand in a 60 angstrom box of TIP3P water.\n",
    "merged_sol = BSS.Solvent.tip3p(molecule=merged, box=3*[60*BSS.Units.Length.angstrom])\n",
    "\n",
    "# Create the free energy protocol.\n",
    "protocol = BSS.Protocol.FreeEnergy(runtime=4*BSS.Units.Time.nanosecond, num_lam=9)\n",
    "\n",
    "# Initialise relative free energy objects for each leg.\n",
    "# (Once again, this defaults to the SOMD engine.)\n",
    "fep_bound = BSS.FreeEnergy.Relative(complex_sol, protocol, work_dir=\"o_xylene_benzene/bound\")\n",
    "fep_free  = BSS.FreeEnergy.Relative(merged_sol, protocol, work_dir=\"o_xylene_benzene/free\")"
   ]
  },
  {
   "cell_type": "markdown",
   "metadata": {},
   "source": [
    "`fep_bound.run()`\n",
    "Would run the simulation for the _bound_ leg."
   ]
  },
  {
   "cell_type": "markdown",
   "metadata": {},
   "source": [
    "#### <span style=\"color:teal\">4.5 Exercises</span>\n",
    "<a id=\"exerc2\"></a>\n",
    "Exercises for binding free energies. \n",
    "\n",
    "#### <span style=\"color:teal\">4.5.1 Box sizes of the solvated leg</span>\n",
    "<span style=\"color:purple\">Extra:</span>\n",
    "One thing you can notice is that the box size of the bound and free leg are the same. This of course is a bit silly, because you don't need to use such a large box for just running the ligand in water. Since the two legs are decoupled, we can just solvate the ligand in a smaller box for the free leg."
   ]
  },
  {
   "cell_type": "code",
   "execution_count": null,
   "metadata": {},
   "outputs": [],
   "source": [
    "# Solvate the ligand in a smaller 30 angstrom box of TIP3P water.\n",
    "merged_sol = #FIXME\n",
    "\n",
    "# Recreate the object using the smaller system.\n",
    "fep_free = BSS.FreeEnergy.Relative(merged_sol, protocol, work_dir=\"o_xylene_benzene/free\")"
   ]
  },
  {
   "cell_type": "code",
   "execution_count": 78,
   "metadata": {},
   "outputs": [],
   "source": [
    "# answer\n",
    "# Solvate the ligand in a smaller 30 angstrom box of TIP3P water.\n",
    "# Try using a work_dir called \"exercise_4\" and a box size for the free leg of the simulations of 30 Angstrom. \n",
    "merged_sol = BSS.Solvent.tip3p(molecule=merged, work_dir=\"exercise_4\", box=3*[30*BSS.Units.Length.angstrom])\n",
    "\n",
    "# Recreate the object using the smaller system.\n",
    "fep_free = BSS.FreeEnergy.Relative(merged_sol, protocol, work_dir=\"o_xylene_benzene/free\")"
   ]
  },
  {
   "cell_type": "markdown",
   "metadata": {},
   "source": [
    "#### <span style=\"color:teal\">4.5.2. Running a minimisation and equilibration before the production</span>\n",
    "\n",
    "It is good practice to minimise and equilibrate the molecular system _before_ setting up the free energy simulations. Thankfully BiomSpace can handle systems containing perturbable molecules for simulation protocols other than `BioSimSpace.Protocol.FreeEnergy`. For example, this means that you can create a process to minimise a specified end state (lambda = 0 by default) of a perturbable system. In the box below, write some code to run a minmisation and equilibration on the system (`complx`).\n",
    "\n",
    "**Hint**: use the [documentation](https://biosimspace.org/). Also when returning the system use `getSystem(block=True)` so that we wait for the minimisation and equilibration simulations to finish before returning the system."
   ]
  },
  {
   "cell_type": "code",
   "execution_count": null,
   "metadata": {},
   "outputs": [],
   "source": [
    "minimised = #FIXME\n",
    "equilibrated = #FIXME\n",
    "\n",
    "# Create the free energy protocol.\n",
    "protocol = BSS.Protocol.FreeEnergy(runtime=4*BSS.Units.Time.nanosecond, num_lam=9)\n",
    "\n",
    "# Initialise relative free energy objects for each leg.\n",
    "fep_bound = BSS.FreeEnergy.Relative(equilibrated, protocol, work_dir=\"exercise_4_5/bound\")"
   ]
  },
  {
   "cell_type": "code",
   "execution_count": null,
   "metadata": {},
   "outputs": [],
   "source": [
    "# answer\n",
    "# Minimise the system.\n",
    "minimised = BSS.Process.Gromacs(solvated, BSS.Protocol.Minimisation()).start().getSystem(block=True)\n",
    "\n",
    "# Equilibrate the system.\n",
    "equilibrated = BSS.Process.Gromacs(minimised, BSS.Protocol.Equilibration()).start().getSystem(block=True)\n",
    "\n",
    "# Create the free energy protocol.\n",
    "protocol = BSS.Protocol.FreeEnergy(runtime=4*BSS.Units.Time.nanosecond, num_lam=9)\n",
    "\n",
    "# Initialise relative free energy objects for each leg.\n",
    "fep_bound = BSS.FreeEnergy.Relative(equilibrated, protocol, work_dir=\"exercise_4_5/bound\")"
   ]
  },
  {
   "cell_type": "markdown",
   "metadata": {},
   "source": [
    "We can look at the folders created using this. They should contain xyz files."
   ]
  },
  {
   "cell_type": "code",
   "execution_count": null,
   "metadata": {},
   "outputs": [],
   "source": [
    "! ls exercise_4_5/bound\n",
    "! ls exercise_4_5/bound/lambda_0.0000"
   ]
  },
  {
   "cell_type": "markdown",
   "metadata": {},
   "source": [
    "#### <span style=\"color:teal\">4.5.3. Running the production run</span>\n",
    "\n",
    "As mentioned earlier, these free energy simulations can in general be run using:\n",
    "\n",
    "`process.run()` and `process.wait()` .\n",
    "\n",
    "This is not ideal for production runs however, as it runs the lambda windows sequentially. It is best to run this via a bash script using some kind of job schedueler, such as Slurm. An example script for this is in the 'o_xylene_benzene_for_analysis' folder. This is also discussed in more detail in the RBFE tutorial.\n",
    "\n",
    "It is important to note as well, that for engines other than SOMD (such as GROMACS), additional equilibration protocols are usually required at each lambda window as well (not just at lambda 0.0 before setting up the Free Energy). This is to ensure that simulations do not experience errors. This setup is currently not supported in the main/devel branch of BSS, but is under development."
   ]
  },
  {
   "cell_type": "markdown",
   "metadata": {},
   "source": [
    "### <span style=\"color:teal\">5. Analysis</span>\n",
    "<a id=\"exerc2\"></a>\n",
    "<a id=\"ana\"></a>\n",
    "\n",
    "A run with SOMD for o-xylene to benzene has already been carried out. The results are in the 'o_xylene_benzene_for_analysis' folder. In this section, we will look at how we can analyse this run.\n",
    "\n",
    " <span style=\"color:pink\">Further reading </span>: 8.1,8.2,8.3\n"
   ]
  },
  {
   "cell_type": "markdown",
   "metadata": {},
   "source": [
    "#### <span style=\"color:teal\">5.1 Calculating the RBFE between a pair of ligands</span>\n",
    "\n",
    "We will first calculate the RBFE. This is achieved relatively simply in BSS by using 'analyse'. This implements the auto equilibrium detection and statistical inefficiency from the alchemlyb python implementation in order to obtain uncorrelated samples. Following this, MBAR is used as the default analysis method.\n",
    "\n",
    "Once we have obtained the energy for each leg, we can then calculate the difference to obtain the RBFE.\n"
   ]
  },
  {
   "cell_type": "code",
   "execution_count": null,
   "metadata": {},
   "outputs": [],
   "source": [
    "pmf_free, overlap_matrix_free = BSS.FreeEnergy.Relative.analyse(f'o_xylene_benzene_for_analysis/free')\n",
    "pmf_bound, overlap_matrix_bound = BSS.FreeEnergy.Relative.analyse(f'o_xylene_benzene_for_analysis/bound')\n",
    "freenrg_rel = BSS.FreeEnergy.Relative.difference(pmf_bound, pmf_free)\n",
    "print(freenrg_rel)"
   ]
  },
  {
   "cell_type": "markdown",
   "metadata": {},
   "source": [
    "#### <span style=\"color:teal\">5.2 Checking the overlap</span>\n",
    "For MBAR, we can assess the reliability of the calculations by checking the phase space overlap between lambda windows. The off-diagonals should be atleast 0.03 so that the obtained free energy estimate is reliable.\n",
    "\n",
    "The check_overlap function should return a warning if the value for any off-diagonal is less than 0.03 - otherwise, there will be no output for it.\n",
    "\n",
    " <span style=\"color:pink\">Further reading </span>: 8.5 (overlap matrix)"
   ]
  },
  {
   "cell_type": "code",
   "execution_count": null,
   "metadata": {},
   "outputs": [],
   "source": [
    "BSS.FreeEnergy.Relative.check_overlap(bound_overlap)\n",
    "BSS.FreeEnergy.Relative.check_overlap(free_overlap)"
   ]
  },
  {
   "cell_type": "markdown",
   "metadata": {},
   "source": [
    "We can also plot the overlap for a chosen leg of a perturbation to visualise it."
   ]
  },
  {
   "cell_type": "code",
   "execution_count": null,
   "metadata": {},
   "outputs": [],
   "source": [
    "ax = _plot_mbar_overlap_matrix(overlap_matrix_bound) # pick either the bound or the free overlap\n",
    "ax.set_title(f\"Overlap matrix\")\n",
    "ax.show()"
   ]
  },
  {
   "cell_type": "markdown",
   "metadata": {},
   "source": [
    "#### <span style=\"color:teal\">5.3 Exercises</span>\n",
    "<span style=\"color:purple\">Extra:</span>\n",
    "Instead of using MBAR, try using TI (Thermodynamic Integration) to anaylse the results.\n",
    "This can be done by setting the estimator to TI when analysing.\n",
    "\n",
    "```python\n",
    "pmf, overlap_matrix = BSS.FreeEnergy.Relative.analyse(f'{folder}', estimator=\"TI\")\n",
    "```\n",
    "\n",
    "Are the results different?"
   ]
  },
  {
   "cell_type": "markdown",
   "metadata": {},
   "source": [
    "Now that we know how to setup, run, and analyse a free energy perturbation in BSS, we will next look at how to carry this out for an entire network of perturbations in the RBFE tutorial."
   ]
  }
 ],
 "metadata": {
  "kernelspec": {
   "display_name": "Python 3 (ipykernel)",
   "language": "python",
   "name": "python3"
  },
  "language_info": {
   "codemirror_mode": {
    "name": "ipython",
    "version": 3
   },
   "file_extension": ".py",
   "mimetype": "text/x-python",
   "name": "python",
   "nbconvert_exporter": "python",
   "pygments_lexer": "ipython3",
   "version": "3.9.12"
  },
  "varInspector": {
   "cols": {
    "lenName": 16,
    "lenType": 16,
    "lenVar": 40
   },
   "kernels_config": {
    "python": {
     "delete_cmd_postfix": "",
     "delete_cmd_prefix": "del ",
     "library": "var_list.py",
     "varRefreshCmd": "print(var_dic_list())"
    },
    "r": {
     "delete_cmd_postfix": ") ",
     "delete_cmd_prefix": "rm(",
     "library": "var_list.r",
     "varRefreshCmd": "cat(var_dic_list()) "
    }
   },
   "types_to_exclude": [
    "module",
    "function",
    "builtin_function_or_method",
    "instance",
    "_Feature"
   ],
   "window_display": false
  },
  "vscode": {
   "interpreter": {
    "hash": "d79bb85316fa6c998e385cc39903e056bffeb3f6098416e9c269ddd32175e919"
   }
  }
 },
 "nbformat": 4,
 "nbformat_minor": 2
}
